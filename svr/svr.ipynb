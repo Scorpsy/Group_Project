{
 "metadata": {
  "language_info": {
   "codemirror_mode": {
    "name": "ipython",
    "version": 3
   },
   "file_extension": ".py",
   "mimetype": "text/x-python",
   "name": "python",
   "nbconvert_exporter": "python",
   "pygments_lexer": "ipython3",
   "version": "3.6.9"
  },
  "orig_nbformat": 2,
  "kernelspec": {
   "name": "python369jvsc74a57bd031f2aee4e71d21fbe5cf8b01ff0e069b9275f58929596ceb00d14d90e3e16cd6",
   "display_name": "Python 3.6.9 64-bit"
  },
  "metadata": {
   "interpreter": {
    "hash": "31f2aee4e71d21fbe5cf8b01ff0e069b9275f58929596ceb00d14d90e3e16cd6"
   }
  }
 },
 "nbformat": 4,
 "nbformat_minor": 2,
 "cells": [
  {
   "cell_type": "code",
   "execution_count": 32,
   "metadata": {},
   "outputs": [],
   "source": [
    "from sklearn.svm import SVR\n",
    "import numpy as np\n",
    "import pandas as pd\n",
    "import matplotlib.pyplot as plt\n",
    "import yfinance as yf\n",
    "import data_processing as pf\n",
    "import altair as alt\n",
    "from sklearn.metrics import mean_squared_error, r2_score"
   ]
  },
  {
   "cell_type": "code",
   "execution_count": 33,
   "metadata": {},
   "outputs": [
    {
     "output_type": "execute_result",
     "data": {
      "text/plain": [
       "DataTransformerRegistry.enable('json')"
      ]
     },
     "metadata": {},
     "execution_count": 33
    }
   ],
   "source": [
    "alt.renderers.enable('default')\n",
    "alt.data_transformers.enable('json')"
   ]
  },
  {
   "cell_type": "code",
   "execution_count": 55,
   "metadata": {},
   "outputs": [],
   "source": [
    "googl = yf.Ticker('GOOGL')\n",
    "amzn = yf.Ticker('AMZN')\n",
    "aapl = yf.Ticker('AAPL')\n",
    "fb = yf.Ticker('FB')\n",
    "msft = yf.Ticker('MSFT')\n",
    "tsla = yf.Ticker('TSLA')\n",
    "\n",
    "aapl_df = aapl.history(period='max')\n",
    "amzn_df = amzn.history(period='max')\n",
    "fb_df = fb.history(period='max')\n",
    "googl_df = googl.history(period='max')\n",
    "msft_df = msft.history(period='max')\n",
    "tsla_df = tsla.history(period='max')"
   ]
  },
  {
   "cell_type": "code",
   "execution_count": 78,
   "metadata": {},
   "outputs": [],
   "source": [
    "stock_dfs = [amzn_df]\n",
    "\n",
    "for stock_df in stock_dfs:\n",
    "    stock_df = pf.date_time_prep(stock_df) \n",
    "    stock_df = pf.rolling_aves(stock_df)\n",
    "    stock_df = pf.future_close_setup(stock_df, 1)"
   ]
  },
  {
   "cell_type": "code",
   "execution_count": 72,
   "metadata": {},
   "outputs": [],
   "source": [
    "def combiner(stock_dfs):\n",
    "    combine_df = stock_dfs[0]\n",
    "    i = 1\n",
    "    while i < len(stock_dfs):\n",
    "        combine_df = pd.concat([combine_df, stock_dfs[i]])\n",
    "        i += 1\n",
    "    \n",
    "    combine_df.sort_values(by=['Date'], inplace=True)\n",
    "    return combine_df"
   ]
  },
  {
   "cell_type": "code",
   "execution_count": 79,
   "metadata": {},
   "outputs": [],
   "source": [
    "combine_df = combiner(stock_dfs)\n",
    "X = combine_df.iloc[:,:-1]\n",
    "y = combine_df.iloc[:,-1:]\n"
   ]
  },
  {
   "cell_type": "code",
   "execution_count": 80,
   "metadata": {},
   "outputs": [],
   "source": [
    "from sklearn.model_selection import train_test_split\n",
    "\n",
    "split_mark = int(len(combine_df)-(365*len(stock_dfs)))\n",
    "X_train = X.head(split_mark)\n",
    "X_test = X.tail(len(combine_df) - split_mark)\n",
    "y_train = y.head(split_mark)\n",
    "y_test = y.tail(len(combine_df) - split_mark)\n",
    "\n"
   ]
  },
  {
   "cell_type": "code",
   "execution_count": 82,
   "metadata": {},
   "outputs": [],
   "source": [
    "from sklearn.preprocessing import StandardScaler\n",
    "\n",
    "sc =  StandardScaler()\n",
    "\n",
    "X_train_scaled = sc.fit_transform(X_train)\n",
    "X_test_scaled = sc.transform(X_test)\n"
   ]
  },
  {
   "cell_type": "code",
   "execution_count": 83,
   "metadata": {},
   "outputs": [
    {
     "output_type": "stream",
     "name": "stderr",
     "text": [
      "/home/matthewarinanta/.local/lib/python3.6/site-packages/sklearn/utils/validation.py:63: DataConversionWarning: A column-vector y was passed when a 1d array was expected. Please change the shape of y to (n_samples, ), for example using ravel().\n  return f(*args, **kwargs)\n"
     ]
    }
   ],
   "source": [
    "svr_rbf = SVR(kernel='rbf', C=1e8, gamma=1e-8,epsilon=0.001) \n",
    "#pol_svr = SVR(kernel = 'poly', C=1000.0, degree=10)\n",
    "svr_rbf.fit(X_train_scaled,y_train)\n",
    "#pol_svr.fit(X_train,y_train)\n",
    "svr_close_pred = svr_rbf.predict(X_test_scaled)\n",
    "svr_train_pred = svr_rbf.predict(X_train_scaled)\n",
    "\n",
    "#pol_close_pred = pol_svr.predict(X_test)\n",
    "#pol_train_pred = pol_svr.predict(X_train)"
   ]
  },
  {
   "cell_type": "code",
   "execution_count": 12,
   "metadata": {},
   "outputs": [
    {
     "output_type": "stream",
     "name": "stdout",
     "text": [
      "Training R2 Score: 0.9973964022452387\n"
     ]
    }
   ],
   "source": [
    "train_score = r2_score(y_train, svr_train_pred)\n",
    "print(\"Training R2 Score: \" + str(train_score))\n",
    "\n"
   ]
  },
  {
   "cell_type": "code",
   "execution_count": 13,
   "metadata": {},
   "outputs": [
    {
     "output_type": "stream",
     "name": "stdout",
     "text": [
      "R2 Score: 0.9609414451050441\n"
     ]
    }
   ],
   "source": [
    "model_score = r2_score(y_test.dropna(), svr_close_pred[:len(y_test.dropna())])\n",
    "print(\"R2 Score: \" + str(model_score))\n",
    "\n"
   ]
  },
  {
   "cell_type": "code",
   "execution_count": 16,
   "metadata": {},
   "outputs": [],
   "source": [
    "stock_dfs[0].drop(stock_dfs[0].tail(1).index,inplace=True)"
   ]
  },
  {
   "cell_type": "code",
   "execution_count": 84,
   "metadata": {},
   "outputs": [
    {
     "output_type": "execute_result",
     "data": {
      "text/html": "\n<div id=\"altair-viz-ab6130c3db8046ad8254f6db406b6f0d\"></div>\n<script type=\"text/javascript\">\n  (function(spec, embedOpt){\n    let outputDiv = document.currentScript.previousElementSibling;\n    if (outputDiv.id !== \"altair-viz-ab6130c3db8046ad8254f6db406b6f0d\") {\n      outputDiv = document.getElementById(\"altair-viz-ab6130c3db8046ad8254f6db406b6f0d\");\n    }\n    const paths = {\n      \"vega\": \"https://cdn.jsdelivr.net/npm//vega@5?noext\",\n      \"vega-lib\": \"https://cdn.jsdelivr.net/npm//vega-lib?noext\",\n      \"vega-lite\": \"https://cdn.jsdelivr.net/npm//vega-lite@4.8.1?noext\",\n      \"vega-embed\": \"https://cdn.jsdelivr.net/npm//vega-embed@6?noext\",\n    };\n\n    function loadScript(lib) {\n      return new Promise(function(resolve, reject) {\n        var s = document.createElement('script');\n        s.src = paths[lib];\n        s.async = true;\n        s.onload = () => resolve(paths[lib]);\n        s.onerror = () => reject(`Error loading script: ${paths[lib]}`);\n        document.getElementsByTagName(\"head\")[0].appendChild(s);\n      });\n    }\n\n    function showError(err) {\n      outputDiv.innerHTML = `<div class=\"error\" style=\"color:red;\">${err}</div>`;\n      throw err;\n    }\n\n    function displayChart(vegaEmbed) {\n      vegaEmbed(outputDiv, spec, embedOpt)\n        .catch(err => showError(`Javascript Error: ${err.message}<br>This usually means there's a typo in your chart specification. See the javascript console for the full traceback.`));\n    }\n\n    if(typeof define === \"function\" && define.amd) {\n      requirejs.config({paths});\n      require([\"vega-embed\"], displayChart, err => showError(`Error loading script: ${err.message}`));\n    } else if (typeof vegaEmbed === \"function\") {\n      displayChart(vegaEmbed);\n    } else {\n      loadScript(\"vega\")\n        .then(() => loadScript(\"vega-lite\"))\n        .then(() => loadScript(\"vega-embed\"))\n        .catch(showError)\n        .then(() => displayChart(vegaEmbed));\n    }\n  })({\"config\": {\"view\": {\"continuousWidth\": 400, \"continuousHeight\": 300}}, \"data\": {\"url\": \"altair-data-63090a70b520f4516ef1406edaebe3f4.json\", \"format\": {\"type\": \"json\"}}, \"mark\": \"line\", \"encoding\": {\"color\": {\"type\": \"nominal\", \"field\": \"Company\"}, \"x\": {\"type\": \"temporal\", \"field\": \"Date\"}, \"y\": {\"type\": \"quantitative\", \"field\": \"Price\"}}, \"$schema\": \"https://vega.github.io/schema/vega-lite/v4.8.1.json\"}, {\"mode\": \"vega-lite\"});\n</script>",
      "text/plain": [
       "alt.Chart(...)"
      ]
     },
     "metadata": {},
     "execution_count": 84
    }
   ],
   "source": [
    "columns = ['Amazon Price', 'Amazon Prediction']\n",
    "\n",
    "single_split_mark = int(len(stock_dfs[0])-365)\n",
    "results_df = pd.DataFrame(columns=columns, index=stock_dfs[0].tail(len(stock_dfs[0])-single_split_mark).index)\n",
    "\n",
    "i = 0\n",
    "for stock_df in stock_dfs:\n",
    "     single_split_mark = int(len(stock_df)-365)\n",
    "     results_df[columns[i]] =  stock_df.iloc[:,-1:].tail(len(stock_df) - single_split_mark)\n",
    "        \n",
    "     X_all = sc.transform(stock_df.iloc[:,:-1].tail(len(stock_df) - single_split_mark))\n",
    "     results_df[columns[i+1]] = svr_rbf.predict(X_all)\n",
    "     i += 2\n",
    "            \n",
    "results_df.reset_index(inplace=True)\n",
    "results_df = results_df.melt('Date', var_name='Company', value_name='Price')\n",
    "    # Plots Results\n",
    "line_plot = alt.Chart(results_df).mark_line().encode(\n",
    "    x = 'Date',\n",
    "    y = 'Price',\n",
    "    color = 'Company'\n",
    "    )\n",
    "\n",
    "line_plot"
   ]
  },
  {
   "cell_type": "code",
   "execution_count": 92,
   "metadata": {},
   "outputs": [
    {
     "output_type": "stream",
     "name": "stderr",
     "text": [
      "/home/matthewarinanta/.local/lib/python3.6/site-packages/sklearn/utils/validation.py:63: DataConversionWarning: A column-vector y was passed when a 1d array was expected. Please change the shape of y to (n_samples, ), for example using ravel().\n  return f(*args, **kwargs)\n"
     ]
    }
   ],
   "source": [
    "stock_dfs = [googl_df]\n",
    "\n",
    "for stock_df in stock_dfs:\n",
    "    stock_df = pf.date_time_prep(stock_df) \n",
    "    stock_df = pf.rolling_aves(stock_df)\n",
    "    stock_df = pf.future_close_setup(stock_df, 1)\n",
    "\n",
    "combine_df = combiner(stock_dfs)\n",
    "X = combine_df.iloc[:,:-1]\n",
    "y = combine_df.iloc[:,-1:]\n",
    "\n",
    "split_mark = int(len(combine_df)-(365*len(stock_dfs)))\n",
    "X_train = X.head(split_mark)\n",
    "X_test = X.tail(len(combine_df) - split_mark)\n",
    "y_train = y.head(split_mark)\n",
    "y_test = y.tail(len(combine_df) - split_mark)\n",
    "\n",
    "sc =  StandardScaler()\n",
    "\n",
    "X_train_scaled = sc.fit_transform(X_train)\n",
    "X_test_scaled = sc.transform(X_test)\n",
    "\n",
    "svr_rbf = SVR(kernel='rbf', C=1e8, gamma=1e-8,epsilon=0.001) \n",
    "#pol_svr = SVR(kernel = 'poly', C=1000.0, degree=10)\n",
    "svr_rbf.fit(X_train_scaled,y_train)\n",
    "#pol_svr.fit(X_train,y_train)\n",
    "svr_close_pred = svr_rbf.predict(X_test_scaled)\n",
    "svr_train_pred = svr_rbf.predict(X_train_scaled)"
   ]
  },
  {
   "cell_type": "code",
   "execution_count": 94,
   "metadata": {},
   "outputs": [
    {
     "output_type": "execute_result",
     "data": {
      "text/html": "\n<div id=\"altair-viz-7b4efd49a423471f86bd4e792c0f6c87\"></div>\n<script type=\"text/javascript\">\n  (function(spec, embedOpt){\n    let outputDiv = document.currentScript.previousElementSibling;\n    if (outputDiv.id !== \"altair-viz-7b4efd49a423471f86bd4e792c0f6c87\") {\n      outputDiv = document.getElementById(\"altair-viz-7b4efd49a423471f86bd4e792c0f6c87\");\n    }\n    const paths = {\n      \"vega\": \"https://cdn.jsdelivr.net/npm//vega@5?noext\",\n      \"vega-lib\": \"https://cdn.jsdelivr.net/npm//vega-lib?noext\",\n      \"vega-lite\": \"https://cdn.jsdelivr.net/npm//vega-lite@4.8.1?noext\",\n      \"vega-embed\": \"https://cdn.jsdelivr.net/npm//vega-embed@6?noext\",\n    };\n\n    function loadScript(lib) {\n      return new Promise(function(resolve, reject) {\n        var s = document.createElement('script');\n        s.src = paths[lib];\n        s.async = true;\n        s.onload = () => resolve(paths[lib]);\n        s.onerror = () => reject(`Error loading script: ${paths[lib]}`);\n        document.getElementsByTagName(\"head\")[0].appendChild(s);\n      });\n    }\n\n    function showError(err) {\n      outputDiv.innerHTML = `<div class=\"error\" style=\"color:red;\">${err}</div>`;\n      throw err;\n    }\n\n    function displayChart(vegaEmbed) {\n      vegaEmbed(outputDiv, spec, embedOpt)\n        .catch(err => showError(`Javascript Error: ${err.message}<br>This usually means there's a typo in your chart specification. See the javascript console for the full traceback.`));\n    }\n\n    if(typeof define === \"function\" && define.amd) {\n      requirejs.config({paths});\n      require([\"vega-embed\"], displayChart, err => showError(`Error loading script: ${err.message}`));\n    } else if (typeof vegaEmbed === \"function\") {\n      displayChart(vegaEmbed);\n    } else {\n      loadScript(\"vega\")\n        .then(() => loadScript(\"vega-lite\"))\n        .then(() => loadScript(\"vega-embed\"))\n        .catch(showError)\n        .then(() => displayChart(vegaEmbed));\n    }\n  })({\"config\": {\"view\": {\"continuousWidth\": 400, \"continuousHeight\": 300}}, \"data\": {\"url\": \"altair-data-d437e1e8940389950aba6b82cf644869.json\", \"format\": {\"type\": \"json\"}}, \"mark\": \"line\", \"encoding\": {\"color\": {\"type\": \"nominal\", \"field\": \"Company\"}, \"x\": {\"type\": \"temporal\", \"field\": \"Date\"}, \"y\": {\"type\": \"quantitative\", \"field\": \"Price\"}}, \"$schema\": \"https://vega.github.io/schema/vega-lite/v4.8.1.json\"}, {\"mode\": \"vega-lite\"});\n</script>",
      "text/plain": [
       "alt.Chart(...)"
      ]
     },
     "metadata": {},
     "execution_count": 94
    }
   ],
   "source": [
    "columns = ['Google Price', 'Google Prediction']\n",
    "\n",
    "single_split_mark = int(len(stock_dfs[0])-365)\n",
    "results_df = pd.DataFrame(columns=columns, index=stock_dfs[0].tail(len(stock_dfs[0])-single_split_mark).index)\n",
    "\n",
    "i = 0\n",
    "for stock_df in stock_dfs:\n",
    "     single_split_mark = int(len(stock_df)-365)\n",
    "     results_df[columns[i]] =  stock_df.iloc[:,-1:].tail(len(stock_df) - single_split_mark)\n",
    "        \n",
    "     X_all = sc.transform(stock_df.iloc[:,:-1].tail(len(stock_df) - single_split_mark))\n",
    "     results_df[columns[i+1]] = svr_rbf.predict(X_all)\n",
    "     i += 2\n",
    "            \n",
    "results_df.reset_index(inplace=True)\n",
    "results_df = results_df.melt('Date', var_name='Company', value_name='Price')\n",
    "    # Plots Results\n",
    "line_plot = alt.Chart(results_df).mark_line().encode(\n",
    "    x = 'Date',\n",
    "    y = 'Price',\n",
    "    color = 'Company'\n",
    "    )\n",
    "line_plot"
   ]
  },
  {
   "cell_type": "code",
   "execution_count": 96,
   "metadata": {},
   "outputs": [
    {
     "output_type": "stream",
     "name": "stderr",
     "text": [
      "/home/matthewarinanta/.local/lib/python3.6/site-packages/sklearn/utils/validation.py:63: DataConversionWarning: A column-vector y was passed when a 1d array was expected. Please change the shape of y to (n_samples, ), for example using ravel().\n  return f(*args, **kwargs)\n"
     ]
    },
    {
     "output_type": "execute_result",
     "data": {
      "text/html": "\n<div id=\"altair-viz-e2eea429ecc44f26a7ae35876100fa1c\"></div>\n<script type=\"text/javascript\">\n  (function(spec, embedOpt){\n    let outputDiv = document.currentScript.previousElementSibling;\n    if (outputDiv.id !== \"altair-viz-e2eea429ecc44f26a7ae35876100fa1c\") {\n      outputDiv = document.getElementById(\"altair-viz-e2eea429ecc44f26a7ae35876100fa1c\");\n    }\n    const paths = {\n      \"vega\": \"https://cdn.jsdelivr.net/npm//vega@5?noext\",\n      \"vega-lib\": \"https://cdn.jsdelivr.net/npm//vega-lib?noext\",\n      \"vega-lite\": \"https://cdn.jsdelivr.net/npm//vega-lite@4.8.1?noext\",\n      \"vega-embed\": \"https://cdn.jsdelivr.net/npm//vega-embed@6?noext\",\n    };\n\n    function loadScript(lib) {\n      return new Promise(function(resolve, reject) {\n        var s = document.createElement('script');\n        s.src = paths[lib];\n        s.async = true;\n        s.onload = () => resolve(paths[lib]);\n        s.onerror = () => reject(`Error loading script: ${paths[lib]}`);\n        document.getElementsByTagName(\"head\")[0].appendChild(s);\n      });\n    }\n\n    function showError(err) {\n      outputDiv.innerHTML = `<div class=\"error\" style=\"color:red;\">${err}</div>`;\n      throw err;\n    }\n\n    function displayChart(vegaEmbed) {\n      vegaEmbed(outputDiv, spec, embedOpt)\n        .catch(err => showError(`Javascript Error: ${err.message}<br>This usually means there's a typo in your chart specification. See the javascript console for the full traceback.`));\n    }\n\n    if(typeof define === \"function\" && define.amd) {\n      requirejs.config({paths});\n      require([\"vega-embed\"], displayChart, err => showError(`Error loading script: ${err.message}`));\n    } else if (typeof vegaEmbed === \"function\") {\n      displayChart(vegaEmbed);\n    } else {\n      loadScript(\"vega\")\n        .then(() => loadScript(\"vega-lite\"))\n        .then(() => loadScript(\"vega-embed\"))\n        .catch(showError)\n        .then(() => displayChart(vegaEmbed));\n    }\n  })({\"config\": {\"view\": {\"continuousWidth\": 400, \"continuousHeight\": 300}}, \"data\": {\"url\": \"altair-data-9fb7d963c2b429b87e2f759405c69c26.json\", \"format\": {\"type\": \"json\"}}, \"mark\": \"line\", \"encoding\": {\"color\": {\"type\": \"nominal\", \"field\": \"Company\"}, \"x\": {\"type\": \"temporal\", \"field\": \"Date\"}, \"y\": {\"type\": \"quantitative\", \"field\": \"Price\"}}, \"$schema\": \"https://vega.github.io/schema/vega-lite/v4.8.1.json\"}, {\"mode\": \"vega-lite\"});\n</script>",
      "text/plain": [
       "alt.Chart(...)"
      ]
     },
     "metadata": {},
     "execution_count": 96
    }
   ],
   "source": [
    "stock_dfs = [msft_df]\n",
    "\n",
    "for stock_df in stock_dfs:\n",
    "    stock_df = pf.date_time_prep(stock_df) \n",
    "    stock_df = pf.rolling_aves(stock_df)\n",
    "    stock_df = pf.future_close_setup(stock_df, 1)\n",
    "\n",
    "combine_df = combiner(stock_dfs)\n",
    "X = combine_df.iloc[:,:-1]\n",
    "y = combine_df.iloc[:,-1:]\n",
    "\n",
    "split_mark = int(len(combine_df)-(365*len(stock_dfs)))\n",
    "X_train = X.head(split_mark)\n",
    "X_test = X.tail(len(combine_df) - split_mark)\n",
    "y_train = y.head(split_mark)\n",
    "y_test = y.tail(len(combine_df) - split_mark)\n",
    "\n",
    "sc =  StandardScaler()\n",
    "\n",
    "X_train_scaled = sc.fit_transform(X_train)\n",
    "X_test_scaled = sc.transform(X_test)\n",
    "\n",
    "svr_rbf = SVR(kernel='rbf', C=1e8, gamma=1e-8,epsilon=0.001) \n",
    "#pol_svr = SVR(kernel = 'poly', C=1000.0, degree=10)\n",
    "svr_rbf.fit(X_train_scaled,y_train)\n",
    "#pol_svr.fit(X_train,y_train)\n",
    "svr_close_pred = svr_rbf.predict(X_test_scaled)\n",
    "svr_train_pred = svr_rbf.predict(X_train_scaled)\n",
    "\n",
    "columns = ['Microsoft Price', 'Microsoft Prediction']\n",
    "\n",
    "single_split_mark = int(len(stock_dfs[0])-365)\n",
    "results_df = pd.DataFrame(columns=columns, index=stock_dfs[0].tail(len(stock_dfs[0])-single_split_mark).index)\n",
    "\n",
    "i = 0\n",
    "for stock_df in stock_dfs:\n",
    "     single_split_mark = int(len(stock_df)-365)\n",
    "     results_df[columns[i]] =  stock_df.iloc[:,-1:].tail(len(stock_df) - single_split_mark)\n",
    "        \n",
    "     X_all = sc.transform(stock_df.iloc[:,:-1].tail(len(stock_df) - single_split_mark))\n",
    "     results_df[columns[i+1]] = svr_rbf.predict(X_all)\n",
    "     i += 2\n",
    "            \n",
    "results_df.reset_index(inplace=True)\n",
    "results_df = results_df.melt('Date', var_name='Company', value_name='Price')\n",
    "    # Plots Results\n",
    "line_plot = alt.Chart(results_df).mark_line().encode(\n",
    "    x = 'Date',\n",
    "    y = 'Price',\n",
    "    color = 'Company'\n",
    "    )\n",
    "line_plot"
   ]
  },
  {
   "cell_type": "code",
   "execution_count": null,
   "metadata": {},
   "outputs": [],
   "source": []
  }
 ]
}