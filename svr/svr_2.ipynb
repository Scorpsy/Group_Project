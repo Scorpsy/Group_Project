{
 "metadata": {
  "language_info": {
   "codemirror_mode": {
    "name": "ipython",
    "version": 3
   },
   "file_extension": ".py",
   "mimetype": "text/x-python",
   "name": "python",
   "nbconvert_exporter": "python",
   "pygments_lexer": "ipython3",
   "version": "3.6.9-final"
  },
  "orig_nbformat": 2,
  "kernelspec": {
   "name": "python3",
   "display_name": "Python 3.6.9 64-bit",
   "metadata": {
    "interpreter": {
     "hash": "31f2aee4e71d21fbe5cf8b01ff0e069b9275f58929596ceb00d14d90e3e16cd6"
    }
   }
  }
 },
 "nbformat": 4,
 "nbformat_minor": 2,
 "cells": [
  {
   "cell_type": "code",
   "execution_count": 24,
   "metadata": {},
   "outputs": [],
   "source": [
    "from sklearn.svm import SVR\n",
    "import numpy as np\n",
    "import pandas as pd\n",
    "import matplotlib.pyplot as plt\n",
    "import yfinance as yf\n",
    "import data_processing as pf\n",
    "import altair as alt\n",
    "from sklearn.metrics import mean_squared_error, r2_score"
   ]
  },
  {
   "cell_type": "code",
   "execution_count": 22,
   "metadata": {},
   "outputs": [
    {
     "output_type": "execute_result",
     "data": {
      "text/plain": [
       "DataTransformerRegistry.enable('json')"
      ]
     },
     "metadata": {},
     "execution_count": 22
    }
   ],
   "source": [
    "alt.renderers.enable('default')\n",
    "alt.data_transformers.enable('json')"
   ]
  },
  {
   "cell_type": "code",
   "execution_count": 31,
   "metadata": {},
   "outputs": [],
   "source": [
    "googl = yf.Ticker('GOOGL')\n",
    "amzn = yf.Ticker('AMZN')\n",
    "aapl = yf.Ticker('AAPL')\n",
    "fb = yf.Ticker('FB')\n",
    "msft = yf.Ticker('MSFT')\n",
    "tsla = yf.Ticker('TSLA')"
   ]
  },
  {
   "cell_type": "code",
   "execution_count": 32,
   "metadata": {},
   "outputs": [],
   "source": [
    "aapl_df = aapl.history(period='max')\n",
    "amzn_df = amzn.history(period='max')\n",
    "fb_df = fb.history(period='max')\n",
    "googl_df = googl.history(period='max')\n",
    "msft_df = msft.history(period='max')\n",
    "tsla_df = tsla.history(period='max')"
   ]
  },
  {
   "cell_type": "code",
   "execution_count": 33,
   "metadata": {},
   "outputs": [],
   "source": [
    "stock_dfs = [aapl_df, amzn_df, fb_df, googl_df, msft_df, tsla_df]\n",
    "\n",
    "for stock_df in stock_dfs:\n",
    "    stock_df = pf.date_time_prep(stock_df) \n",
    "    stock_df = pf.rolling_aves(stock_df)\n",
    "    stock_df = pf.future_close_setup(stock_df, 5)"
   ]
  },
  {
   "cell_type": "code",
   "execution_count": 7,
   "metadata": {},
   "outputs": [],
   "source": [
    "def combiner(stock_dfs):\n",
    "    combine_df = stock_dfs[0]\n",
    "    i = 1\n",
    "    while i < len(stock_dfs):\n",
    "        combine_df = pd.concat([combine_df, stock_dfs[i]])\n",
    "        i += 1\n",
    "    \n",
    "    combine_df.sort_values(by=['Date'], inplace=True)\n",
    "    return combine_df"
   ]
  },
  {
   "cell_type": "code",
   "execution_count": 35,
   "metadata": {},
   "outputs": [
    {
     "output_type": "execute_result",
     "data": {
      "text/plain": [
       "                   Open         High          Low        Close     Volume  \\\n",
       "Date                                                                        \n",
       "1980-12-12     0.100922     0.101361     0.100922     0.100922  469033600   \n",
       "1980-12-15     0.096096     0.096096     0.095657     0.095657  175884800   \n",
       "1980-12-16     0.089075     0.089075     0.088636     0.088636  105728000   \n",
       "1980-12-17     0.090830     0.091268     0.090830     0.090830   86441600   \n",
       "1980-12-18     0.093463     0.093902     0.093463     0.093463   73449600   \n",
       "...                 ...          ...          ...          ...        ...   \n",
       "2021-03-16   236.279999   240.050003   235.940002   237.710007   28092196   \n",
       "2021-03-16  2065.989990  2112.989990  2059.290039  2083.889893    1526368   \n",
       "2021-03-16  3104.969971  3128.909912  3075.860107  3091.860107    2538764   \n",
       "2021-03-16   276.084991   282.130005   274.920013   279.279999   22437665   \n",
       "2021-03-16   703.349976   707.768372   671.000000   676.880005   32195672   \n",
       "\n",
       "            Dividends  Stock Splits  Day  Month  Year  ...  20 Day Open Mean  \\\n",
       "Date                                                   ...                     \n",
       "1980-12-12        0.0           0.0   12     12  1980  ...          0.100922   \n",
       "1980-12-15        0.0           0.0   15     12  1980  ...          0.098509   \n",
       "1980-12-16        0.0           0.0   16     12  1980  ...          0.095364   \n",
       "1980-12-17        0.0           0.0   17     12  1980  ...          0.094230   \n",
       "1980-12-18        0.0           0.0   18     12  1980  ...          0.094077   \n",
       "...               ...           ...  ...    ...   ...  ...               ...   \n",
       "2021-03-16        0.0           0.0   16      3  2021  ...        234.551501   \n",
       "2021-03-16        0.0           0.0   16      3  2021  ...       2058.594989   \n",
       "2021-03-16        0.0           0.0   16      3  2021  ...       3123.381482   \n",
       "2021-03-16        0.0           0.0   16      3  2021  ...        264.551749   \n",
       "2021-03-16        0.0           0.0   16      3  2021  ...        698.593503   \n",
       "\n",
       "            20 Day High Mean  20 Day Low Mean  20 Day Close Mean  \\\n",
       "Date                                                               \n",
       "1980-12-12          0.101361         0.100922           0.100922   \n",
       "1980-12-15          0.098728         0.098289           0.098289   \n",
       "1980-12-16          0.095510         0.095071           0.095071   \n",
       "1980-12-17          0.094450         0.094011           0.094011   \n",
       "1980-12-18          0.094340         0.093901           0.093901   \n",
       "...                      ...              ...                ...   \n",
       "2021-03-16        237.005500       232.011998         234.417500   \n",
       "2021-03-16       2088.367505      2034.637006        2059.938013   \n",
       "2021-03-16       3155.164990      3074.216003        3112.219482   \n",
       "2021-03-16        269.034497       260.545000         264.491499   \n",
       "2021-03-16        726.966422       666.889001         692.008002   \n",
       "\n",
       "            20 Day Volume Mean  20 Day Open Var  20 Day High Var  \\\n",
       "Date                                                               \n",
       "1980-12-12        4.690336e+08         0.000000         0.000000   \n",
       "1980-12-15        3.224592e+08         0.000006         0.000007   \n",
       "1980-12-16        2.502155e+08         0.000024         0.000025   \n",
       "1980-12-17        2.092720e+08         0.000022         0.000022   \n",
       "1980-12-18        1.821075e+08         0.000017         0.000018   \n",
       "...                        ...              ...              ...   \n",
       "2021-03-16        3.036902e+07        18.366063        12.327005   \n",
       "2021-03-16        1.631613e+06       644.460419       487.093496   \n",
       "2021-03-16        3.631118e+06      7725.218989      7981.856493   \n",
       "2021-03-16        2.008895e+07        28.640484        25.094165   \n",
       "2021-03-16        4.145486e+07      2761.621563      3290.222184   \n",
       "\n",
       "            20 Day Low Var  20 Day Close Var  20 Day Volume Var  \n",
       "Date                                                             \n",
       "1980-12-12        0.000000          0.000000       0.000000e+00  \n",
       "1980-12-15        0.000007          0.000007       2.148405e+16  \n",
       "1980-12-16        0.000025          0.000025       2.476102e+16  \n",
       "1980-12-17        0.000022          0.000022       2.359987e+16  \n",
       "1980-12-18        0.000018          0.000018       2.183153e+16  \n",
       "...                    ...               ...                ...  \n",
       "2021-03-16       21.546973         22.803114       5.100401e+13  \n",
       "2021-03-16      905.473832       1046.909568       1.794415e+11  \n",
       "2021-03-16    10189.342291       9892.646807       8.415076e+11  \n",
       "2021-03-16       35.050287         46.558880       2.339193e+13  \n",
       "2021-03-16     3858.669412       3295.923866       3.470244e+14  \n",
       "\n",
       "[34060 rows x 41 columns]"
      ],
      "text/html": "<div>\n<style scoped>\n    .dataframe tbody tr th:only-of-type {\n        vertical-align: middle;\n    }\n\n    .dataframe tbody tr th {\n        vertical-align: top;\n    }\n\n    .dataframe thead th {\n        text-align: right;\n    }\n</style>\n<table border=\"1\" class=\"dataframe\">\n  <thead>\n    <tr style=\"text-align: right;\">\n      <th></th>\n      <th>Open</th>\n      <th>High</th>\n      <th>Low</th>\n      <th>Close</th>\n      <th>Volume</th>\n      <th>Dividends</th>\n      <th>Stock Splits</th>\n      <th>Day</th>\n      <th>Month</th>\n      <th>Year</th>\n      <th>...</th>\n      <th>20 Day Open Mean</th>\n      <th>20 Day High Mean</th>\n      <th>20 Day Low Mean</th>\n      <th>20 Day Close Mean</th>\n      <th>20 Day Volume Mean</th>\n      <th>20 Day Open Var</th>\n      <th>20 Day High Var</th>\n      <th>20 Day Low Var</th>\n      <th>20 Day Close Var</th>\n      <th>20 Day Volume Var</th>\n    </tr>\n    <tr>\n      <th>Date</th>\n      <th></th>\n      <th></th>\n      <th></th>\n      <th></th>\n      <th></th>\n      <th></th>\n      <th></th>\n      <th></th>\n      <th></th>\n      <th></th>\n      <th></th>\n      <th></th>\n      <th></th>\n      <th></th>\n      <th></th>\n      <th></th>\n      <th></th>\n      <th></th>\n      <th></th>\n      <th></th>\n      <th></th>\n    </tr>\n  </thead>\n  <tbody>\n    <tr>\n      <th>1980-12-12</th>\n      <td>0.100922</td>\n      <td>0.101361</td>\n      <td>0.100922</td>\n      <td>0.100922</td>\n      <td>469033600</td>\n      <td>0.0</td>\n      <td>0.0</td>\n      <td>12</td>\n      <td>12</td>\n      <td>1980</td>\n      <td>...</td>\n      <td>0.100922</td>\n      <td>0.101361</td>\n      <td>0.100922</td>\n      <td>0.100922</td>\n      <td>4.690336e+08</td>\n      <td>0.000000</td>\n      <td>0.000000</td>\n      <td>0.000000</td>\n      <td>0.000000</td>\n      <td>0.000000e+00</td>\n    </tr>\n    <tr>\n      <th>1980-12-15</th>\n      <td>0.096096</td>\n      <td>0.096096</td>\n      <td>0.095657</td>\n      <td>0.095657</td>\n      <td>175884800</td>\n      <td>0.0</td>\n      <td>0.0</td>\n      <td>15</td>\n      <td>12</td>\n      <td>1980</td>\n      <td>...</td>\n      <td>0.098509</td>\n      <td>0.098728</td>\n      <td>0.098289</td>\n      <td>0.098289</td>\n      <td>3.224592e+08</td>\n      <td>0.000006</td>\n      <td>0.000007</td>\n      <td>0.000007</td>\n      <td>0.000007</td>\n      <td>2.148405e+16</td>\n    </tr>\n    <tr>\n      <th>1980-12-16</th>\n      <td>0.089075</td>\n      <td>0.089075</td>\n      <td>0.088636</td>\n      <td>0.088636</td>\n      <td>105728000</td>\n      <td>0.0</td>\n      <td>0.0</td>\n      <td>16</td>\n      <td>12</td>\n      <td>1980</td>\n      <td>...</td>\n      <td>0.095364</td>\n      <td>0.095510</td>\n      <td>0.095071</td>\n      <td>0.095071</td>\n      <td>2.502155e+08</td>\n      <td>0.000024</td>\n      <td>0.000025</td>\n      <td>0.000025</td>\n      <td>0.000025</td>\n      <td>2.476102e+16</td>\n    </tr>\n    <tr>\n      <th>1980-12-17</th>\n      <td>0.090830</td>\n      <td>0.091268</td>\n      <td>0.090830</td>\n      <td>0.090830</td>\n      <td>86441600</td>\n      <td>0.0</td>\n      <td>0.0</td>\n      <td>17</td>\n      <td>12</td>\n      <td>1980</td>\n      <td>...</td>\n      <td>0.094230</td>\n      <td>0.094450</td>\n      <td>0.094011</td>\n      <td>0.094011</td>\n      <td>2.092720e+08</td>\n      <td>0.000022</td>\n      <td>0.000022</td>\n      <td>0.000022</td>\n      <td>0.000022</td>\n      <td>2.359987e+16</td>\n    </tr>\n    <tr>\n      <th>1980-12-18</th>\n      <td>0.093463</td>\n      <td>0.093902</td>\n      <td>0.093463</td>\n      <td>0.093463</td>\n      <td>73449600</td>\n      <td>0.0</td>\n      <td>0.0</td>\n      <td>18</td>\n      <td>12</td>\n      <td>1980</td>\n      <td>...</td>\n      <td>0.094077</td>\n      <td>0.094340</td>\n      <td>0.093901</td>\n      <td>0.093901</td>\n      <td>1.821075e+08</td>\n      <td>0.000017</td>\n      <td>0.000018</td>\n      <td>0.000018</td>\n      <td>0.000018</td>\n      <td>2.183153e+16</td>\n    </tr>\n    <tr>\n      <th>...</th>\n      <td>...</td>\n      <td>...</td>\n      <td>...</td>\n      <td>...</td>\n      <td>...</td>\n      <td>...</td>\n      <td>...</td>\n      <td>...</td>\n      <td>...</td>\n      <td>...</td>\n      <td>...</td>\n      <td>...</td>\n      <td>...</td>\n      <td>...</td>\n      <td>...</td>\n      <td>...</td>\n      <td>...</td>\n      <td>...</td>\n      <td>...</td>\n      <td>...</td>\n      <td>...</td>\n    </tr>\n    <tr>\n      <th>2021-03-16</th>\n      <td>236.279999</td>\n      <td>240.050003</td>\n      <td>235.940002</td>\n      <td>237.710007</td>\n      <td>28092196</td>\n      <td>0.0</td>\n      <td>0.0</td>\n      <td>16</td>\n      <td>3</td>\n      <td>2021</td>\n      <td>...</td>\n      <td>234.551501</td>\n      <td>237.005500</td>\n      <td>232.011998</td>\n      <td>234.417500</td>\n      <td>3.036902e+07</td>\n      <td>18.366063</td>\n      <td>12.327005</td>\n      <td>21.546973</td>\n      <td>22.803114</td>\n      <td>5.100401e+13</td>\n    </tr>\n    <tr>\n      <th>2021-03-16</th>\n      <td>2065.989990</td>\n      <td>2112.989990</td>\n      <td>2059.290039</td>\n      <td>2083.889893</td>\n      <td>1526368</td>\n      <td>0.0</td>\n      <td>0.0</td>\n      <td>16</td>\n      <td>3</td>\n      <td>2021</td>\n      <td>...</td>\n      <td>2058.594989</td>\n      <td>2088.367505</td>\n      <td>2034.637006</td>\n      <td>2059.938013</td>\n      <td>1.631613e+06</td>\n      <td>644.460419</td>\n      <td>487.093496</td>\n      <td>905.473832</td>\n      <td>1046.909568</td>\n      <td>1.794415e+11</td>\n    </tr>\n    <tr>\n      <th>2021-03-16</th>\n      <td>3104.969971</td>\n      <td>3128.909912</td>\n      <td>3075.860107</td>\n      <td>3091.860107</td>\n      <td>2538764</td>\n      <td>0.0</td>\n      <td>0.0</td>\n      <td>16</td>\n      <td>3</td>\n      <td>2021</td>\n      <td>...</td>\n      <td>3123.381482</td>\n      <td>3155.164990</td>\n      <td>3074.216003</td>\n      <td>3112.219482</td>\n      <td>3.631118e+06</td>\n      <td>7725.218989</td>\n      <td>7981.856493</td>\n      <td>10189.342291</td>\n      <td>9892.646807</td>\n      <td>8.415076e+11</td>\n    </tr>\n    <tr>\n      <th>2021-03-16</th>\n      <td>276.084991</td>\n      <td>282.130005</td>\n      <td>274.920013</td>\n      <td>279.279999</td>\n      <td>22437665</td>\n      <td>0.0</td>\n      <td>0.0</td>\n      <td>16</td>\n      <td>3</td>\n      <td>2021</td>\n      <td>...</td>\n      <td>264.551749</td>\n      <td>269.034497</td>\n      <td>260.545000</td>\n      <td>264.491499</td>\n      <td>2.008895e+07</td>\n      <td>28.640484</td>\n      <td>25.094165</td>\n      <td>35.050287</td>\n      <td>46.558880</td>\n      <td>2.339193e+13</td>\n    </tr>\n    <tr>\n      <th>2021-03-16</th>\n      <td>703.349976</td>\n      <td>707.768372</td>\n      <td>671.000000</td>\n      <td>676.880005</td>\n      <td>32195672</td>\n      <td>0.0</td>\n      <td>0.0</td>\n      <td>16</td>\n      <td>3</td>\n      <td>2021</td>\n      <td>...</td>\n      <td>698.593503</td>\n      <td>726.966422</td>\n      <td>666.889001</td>\n      <td>692.008002</td>\n      <td>4.145486e+07</td>\n      <td>2761.621563</td>\n      <td>3290.222184</td>\n      <td>3858.669412</td>\n      <td>3295.923866</td>\n      <td>3.470244e+14</td>\n    </tr>\n  </tbody>\n</table>\n<p>34060 rows × 41 columns</p>\n</div>"
     },
     "metadata": {},
     "execution_count": 35
    }
   ],
   "source": [
    "combine_df = combiner(stock_dfs)\n",
    "X = combine_df.iloc[:,:-1]\n",
    "y = combine_df.iloc[:,-1:]\n",
    "X"
   ]
  },
  {
   "cell_type": "code",
   "execution_count": 18,
   "metadata": {},
   "outputs": [],
   "source": [
    "def svr(combine_df, split_time, stock_dfs):\n",
    "    X = combine_df.iloc[:,:-1]\n",
    "    y = combine_df.iloc[:,-1:]\n",
    "    #X = stock_df['Days From IPO'].values.reshape(-1, 1)\n",
    "    #y = stock_df['Close'].values.reshape(-1, 1)\n",
    "    \n",
    "    # Does train/Test Split on chosen time\n",
    "    # Change the -50 to a differnt value to change split point\n",
    "    split_mark = int(len(combine_df)-(split_time*len(stock_dfs)))\n",
    "    X_train = X.head(split_mark)\n",
    "    X_test = X.tail(len(combine_df) - split_mark)\n",
    "    y_train = y.head(split_mark)\n",
    "    y_test = y.tail(len(combine_df) - split_mark)\n",
    "\n",
    "    svr_rbf = SVR(kernel='rbf', C=1e3, gamma=0.1) \n",
    "    svr_rbf.fit(X_train,y_train)\n",
    "    svr_close_pred = svr_rbf.predict(X_test)\n",
    "    svr_train_pred = svr_rbf.predict(X_train)\n",
    "\n",
    "\n",
    "    columns = ['Apple Price', 'Apple Prediction', \n",
    "               'Amazon Price', 'Amazon Prediction',\n",
    "               'Facebook Price', 'Facebook Prediction',\n",
    "               'Google Price', 'Google Prediction',\n",
    "               'Microsoft Price', 'Microsoft Prediction',\n",
    "               'Tesla Price', 'Tesla Prediction']\n",
    "\n",
    "    single_split_mark = int(len(stock_dfs[0])-split_time)\n",
    "    results_df = pd.DataFrame(columns=columns, index=stock_dfs[0].tail(len(stock_dfs[0])-single_split_mark).index)\n",
    "\n",
    "    i = 0\n",
    "    for stock_df in stock_dfs:\n",
    "        single_split_mark = int(len(stock_df)-split_time)\n",
    "        results_df[columns[i]] = stock_df.iloc[:,-1:].tail(len(stock_df) - single_split_mark)\n",
    "        results_df[columns[i+1]] = svr_rbf.predict(stock_df.iloc[:,:-1].tail(len(stock_df) - single_split_mark))\n",
    "        i += 2\n",
    "\n",
    "    results_df.reset_index(inplace=True)\n",
    "    results_df = results_df.melt('Date', var_name='Company', value_name='Price')\n",
    "    # Plots Results\n",
    "    line_plot = alt.Chart(results_df).mark_line().encode(\n",
    "        x = 'Date',\n",
    "        y = 'Price',\n",
    "        color = 'Company'\n",
    "    )\n",
    "    \n",
    "    \n",
    "    \n",
    "    train_score = r2_score(y_train, svr_train_pred)\n",
    "    print(\"Training R2 Score: \" + str(train_score))\n",
    "    print()\n",
    "\n",
    "    \n",
    "    model_score = r2_score(y_test.dropna(), svr_close_pred[:len(y_test.dropna())])\n",
    "    print()\n",
    "    print(\"R2 Score: \" + str(model_score))\n",
    "    \n",
    "    return line_plot\n",
    "\n",
    "\n",
    "\n"
   ]
  },
  {
   "cell_type": "code",
   "execution_count": 26,
   "metadata": {},
   "outputs": [
    {
     "output_type": "stream",
     "name": "stderr",
     "text": [
      "/home/matthewarinanta/.local/lib/python3.6/site-packages/sklearn/utils/validation.py:63: DataConversionWarning: A column-vector y was passed when a 1d array was expected. Please change the shape of y to (n_samples, ), for example using ravel().\n",
      "  return f(*args, **kwargs)\n",
      "Training R2 Score: 0.9356250879517715\n",
      "\n",
      "\n",
      "R2 Score: -0.5269703179860754\n"
     ]
    },
    {
     "output_type": "execute_result",
     "data": {
      "text/html": "\n<div id=\"altair-viz-3d0679b63a834bdd89663543f85ba9a7\"></div>\n<script type=\"text/javascript\">\n  (function(spec, embedOpt){\n    let outputDiv = document.currentScript.previousElementSibling;\n    if (outputDiv.id !== \"altair-viz-3d0679b63a834bdd89663543f85ba9a7\") {\n      outputDiv = document.getElementById(\"altair-viz-3d0679b63a834bdd89663543f85ba9a7\");\n    }\n    const paths = {\n      \"vega\": \"https://cdn.jsdelivr.net/npm//vega@5?noext\",\n      \"vega-lib\": \"https://cdn.jsdelivr.net/npm//vega-lib?noext\",\n      \"vega-lite\": \"https://cdn.jsdelivr.net/npm//vega-lite@4.8.1?noext\",\n      \"vega-embed\": \"https://cdn.jsdelivr.net/npm//vega-embed@6?noext\",\n    };\n\n    function loadScript(lib) {\n      return new Promise(function(resolve, reject) {\n        var s = document.createElement('script');\n        s.src = paths[lib];\n        s.async = true;\n        s.onload = () => resolve(paths[lib]);\n        s.onerror = () => reject(`Error loading script: ${paths[lib]}`);\n        document.getElementsByTagName(\"head\")[0].appendChild(s);\n      });\n    }\n\n    function showError(err) {\n      outputDiv.innerHTML = `<div class=\"error\" style=\"color:red;\">${err}</div>`;\n      throw err;\n    }\n\n    function displayChart(vegaEmbed) {\n      vegaEmbed(outputDiv, spec, embedOpt)\n        .catch(err => showError(`Javascript Error: ${err.message}<br>This usually means there's a typo in your chart specification. See the javascript console for the full traceback.`));\n    }\n\n    if(typeof define === \"function\" && define.amd) {\n      requirejs.config({paths});\n      require([\"vega-embed\"], displayChart, err => showError(`Error loading script: ${err.message}`));\n    } else if (typeof vegaEmbed === \"function\") {\n      displayChart(vegaEmbed);\n    } else {\n      loadScript(\"vega\")\n        .then(() => loadScript(\"vega-lite\"))\n        .then(() => loadScript(\"vega-embed\"))\n        .catch(showError)\n        .then(() => displayChart(vegaEmbed));\n    }\n  })({\"config\": {\"view\": {\"continuousWidth\": 400, \"continuousHeight\": 300}}, \"data\": {\"url\": \"altair-data-9164b4aefc7c422847b582349bdec544.json\", \"format\": {\"type\": \"json\"}}, \"mark\": \"line\", \"encoding\": {\"color\": {\"type\": \"nominal\", \"field\": \"Company\"}, \"x\": {\"type\": \"temporal\", \"field\": \"Date\"}, \"y\": {\"type\": \"quantitative\", \"field\": \"Price\"}}, \"$schema\": \"https://vega.github.io/schema/vega-lite/v4.8.1.json\"}, {\"mode\": \"vega-lite\"});\n</script>",
      "text/plain": [
       "alt.Chart(...)"
      ]
     },
     "metadata": {},
     "execution_count": 26
    }
   ],
   "source": [
    "aapl_df = aapl.history(period='max')\n",
    "amzn_df = amzn.history(period='max')\n",
    "fb_df = fb.history(period='max')\n",
    "googl_df = googl.history(period='max')\n",
    "msft_df = msft.history(period='max')\n",
    "tsla_df = tsla.history(period='max')\n",
    "\n",
    "stock_dfs = [aapl_df, amzn_df, fb_df, googl_df, msft_df, tsla_df]\n",
    "\n",
    "for stock_df in stock_dfs:\n",
    "    stock_df = pf.date_time_prep(stock_df) \n",
    "    stock_df = pf.rolling_aves(stock_df)\n",
    "    stock_df = pf.future_close_setup(stock_df, 5)\n",
    "  \n",
    "combine_df = combiner(stock_dfs)\n",
    "#svr(combine_df, 365, stock_dfs)\n"
   ]
  },
  {
   "cell_type": "code",
   "execution_count": null,
   "metadata": {},
   "outputs": [],
   "source": []
  }
 ]
}