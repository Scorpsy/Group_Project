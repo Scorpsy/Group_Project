{
 "cells": [
  {
   "cell_type": "code",
   "execution_count": 1,
   "id": "pressed-trick",
   "metadata": {},
   "outputs": [],
   "source": [
    "import praw\n",
    "import os\n",
    "import time\n",
    "import csv\n",
    "import datetime as dt\n",
    "import pandas as pd\n",
    "from classes import Posts\n",
    "from os.path import join,dirname\n",
    "from dotenv import load_dotenv"
   ]
  },
  {
   "cell_type": "code",
   "execution_count": null,
   "id": "moderate-tuning",
   "metadata": {},
   "outputs": [],
   "source": [
    "    dotenv_path = join(dirname(__file__), '.env')\n",
    "    load_dotenv(dotenv_path)\n",
    "\n",
    "    reddit = praw.Reddit(client_id = os.getenv('dhWzwGQR8w9ZMQ'),\n",
    "                        client_secret =  os.getenv('xxvN5xoxf8zJL6emCnkTXUvqisi-dw'),\n",
    "                        username =  os.getenv('Reddit-Parser'),\n",
    "                        password = os.getenv('ilikethestock'),\n",
    "                        user_agent = os.getenv('Reddit-Parserv1'))\n",
    "          \n",
    "\n",
    "    data = get_data(reddit,'wallstreetbets','TSLA','all')\n",
    "\n",
    "    print_csv('wsb.csv',data)\n",
    "\n",
    "    df = pd.read_csv('wsb.csv')\n",
    "    print(df)"
   ]
  },
  {
   "cell_type": "code",
   "execution_count": null,
   "id": "tough-bermuda",
   "metadata": {},
   "outputs": [],
   "source": [
    "def get_data(reddit, sub, ticker, time_frame):\n",
    "    stock = reddit.subreddit(sub)\n",
    "    data = []\n",
    "\n",
    "    stock_search = stock.search(query=ticker, time_filter = time_frame)\n",
    "    for submission in stock_search:\n",
    "        if not submission.stickied:\n",
    "            time = submission.created_utc\n",
    "            utc_time = get_date(time)\n",
    "\n",
    "            post = Posts(submission.title,utc_time,submission.ups,submission.upvote_ratio)\n",
    "\n",
    "            data.append(post)\n",
    "\n",
    "    return data"
   ]
  },
  {
   "cell_type": "code",
   "execution_count": null,
   "id": "british-clothing",
   "metadata": {},
   "outputs": [],
   "source": [
    "def print_csv(filename: str, data):\n",
    "    with open(filename, 'w', newline=\"\") as f:\n",
    "        thewriter = csv.writer(f)\n",
    "        thewriter.writerow(['Date','Title','Upvote','Upvote Ratio'])\n",
    "\n",
    "        for d in data:\n",
    "            thewriter.writerow([d.date, d.title, d.upvote, d.upvote_ratio])"
   ]
  },
  {
   "cell_type": "code",
   "execution_count": null,
   "id": "incoming-population",
   "metadata": {},
   "outputs": [],
   "source": [
    "def get_date(created):\n",
    "    return dt.datetime.fromtimestamp(created)"
   ]
  }
 ],
 "metadata": {
  "kernelspec": {
   "display_name": "Python 3",
   "language": "python",
   "name": "python3"
  },
  "language_info": {
   "codemirror_mode": {
    "name": "ipython",
    "version": 3
   },
   "file_extension": ".py",
   "mimetype": "text/x-python",
   "name": "python",
   "nbconvert_exporter": "python",
   "pygments_lexer": "ipython3",
   "version": "3.6.9"
  }
 },
 "nbformat": 4,
 "nbformat_minor": 5
}
