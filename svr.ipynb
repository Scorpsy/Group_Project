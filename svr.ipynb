{
 "metadata": {
  "language_info": {
   "codemirror_mode": {
    "name": "ipython",
    "version": 3
   },
   "file_extension": ".py",
   "mimetype": "text/x-python",
   "name": "python",
   "nbconvert_exporter": "python",
   "pygments_lexer": "ipython3",
   "version": "3.6.9-final"
  },
  "orig_nbformat": 2,
  "kernelspec": {
   "name": "python3",
   "display_name": "Python 3.6.9 64-bit",
   "metadata": {
    "interpreter": {
     "hash": "31f2aee4e71d21fbe5cf8b01ff0e069b9275f58929596ceb00d14d90e3e16cd6"
    }
   }
  }
 },
 "nbformat": 4,
 "nbformat_minor": 2,
 "cells": [
  {
   "cell_type": "code",
   "execution_count": 18,
   "metadata": {},
   "outputs": [],
   "source": [
    "from sklearn.svm import SVR\n",
    "import numpy as np\n",
    "import pandas as pd\n",
    "import matplotlib.pyplot as plt\n",
    "import yfinance as yf\n",
    "import data_processing as pf\n",
    "import altair as alt\n",
    "from sklearn.metrics import mean_squared_error, r2_score"
   ]
  },
  {
   "cell_type": "code",
   "execution_count": 19,
   "metadata": {},
   "outputs": [
    {
     "output_type": "execute_result",
     "data": {
      "text/plain": [
       "DataTransformerRegistry.enable('json')"
      ]
     },
     "metadata": {},
     "execution_count": 19
    }
   ],
   "source": [
    "alt.renderers.enable('default')\n",
    "alt.data_transformers.enable('json')"
   ]
  },
  {
   "cell_type": "code",
   "execution_count": 11,
   "metadata": {},
   "outputs": [
    {
     "output_type": "execute_result",
     "data": {
      "text/plain": [
       "            Date        Open        High         Low       Close     Volume  \\\n",
       "2400  2020-01-10   96.358002   96.987999   94.739998   95.629997   64797500   \n",
       "2401  2020-01-13   98.699997  105.125999   98.400002  104.972000  132588000   \n",
       "2402  2020-01-14  108.851997  109.482002  104.980003  107.584000  144981000   \n",
       "2403  2020-01-15  105.952003  107.568001  103.358002  103.699997   86844000   \n",
       "2404  2020-01-16   98.750000  102.891998   98.433998  102.697998  108683500   \n",
       "...          ...         ...         ...         ...         ...        ...   \n",
       "2690  2021-03-08  600.549988  620.130005  558.789978  563.000000   51497000   \n",
       "2691  2021-03-09  608.179993  678.090027  595.210022  673.580017   67028000   \n",
       "2692  2021-03-10  700.299988  717.849976  655.059998  668.059998   60486700   \n",
       "2693  2021-03-11  699.400024  702.500000  677.179993  699.599976   36106300   \n",
       "2694  2021-03-12  670.000000  694.880005  666.140015  693.729980   33523900   \n",
       "\n",
       "      Dividends  Stock Splits          Mt  Price Change  ...  \\\n",
       "2400          0           0.0   95.785998     -0.006627  ...   \n",
       "2401          0           0.0  102.832667      0.097689  ...   \n",
       "2402          0           0.0  107.348668      0.024883  ...   \n",
       "2403          0           0.0  104.875333     -0.036102  ...   \n",
       "2404          0           0.0  101.341331     -0.009662  ...   \n",
       "...         ...           ...         ...           ...  ...   \n",
       "2690          0           0.0  580.639994     -0.058450  ...   \n",
       "2691          0           0.0  648.960022      0.196412  ...   \n",
       "2692          0           0.0  680.323324     -0.008195  ...   \n",
       "2693          0           0.0  693.093323      0.047211  ...   \n",
       "2694          0           0.0  684.916667     -0.008391  ...   \n",
       "\n",
       "      Larry Williams R 10 Day  Larry Williams R 20 Day  AD Oscillator  \\\n",
       "2400                21.350313                14.185633       0.604093   \n",
       "2401                 0.623227                 0.450317       0.022896   \n",
       "2402                 6.529975                 5.132233       0.421591   \n",
       "2403                22.999226                16.856175       0.918766   \n",
       "2404                30.699630                20.332084       0.043517   \n",
       "...                       ...                      ...            ...   \n",
       "2690                92.970546                93.050134       0.931366   \n",
       "2691                59.907304                59.907304       0.054416   \n",
       "2692                61.557781                61.557781       0.792961   \n",
       "2693                52.127379                52.127379       0.114535   \n",
       "2694                53.882498                53.882498       0.040015   \n",
       "\n",
       "       5 Day CCI  10 Day CCI  20 Day CCI  Day  Month  Year  Days From IPO  \n",
       "2400   30.133554   74.851904  101.626368   10      1  2020           3482  \n",
       "2401  117.768813  118.941678  142.356751   13      1  2020           3485  \n",
       "2402  110.882193  123.259852  153.715105   14      1  2020           3486  \n",
       "2403   49.327110   84.708837  118.959391   15      1  2020           3487  \n",
       "2404  -18.773801   39.949969   84.145863   16      1  2020           3488  \n",
       "...          ...         ...         ...  ...    ...   ...            ...  \n",
       "2690  -84.781918 -131.127524 -134.852119    8      3  2021           3905  \n",
       "2691   17.433400  -29.012309  -70.287011    9      3  2021           3906  \n",
       "2692   57.428626   23.986065  -37.107325   10      3  2021           3907  \n",
       "2693   79.002814   44.476234  -19.977381   11      3  2021           3908  \n",
       "2694   44.138571   30.995537  -23.109574   12      3  2021           3909  \n",
       "\n",
       "[295 rows x 75 columns]"
      ],
      "text/html": "<div>\n<style scoped>\n    .dataframe tbody tr th:only-of-type {\n        vertical-align: middle;\n    }\n\n    .dataframe tbody tr th {\n        vertical-align: top;\n    }\n\n    .dataframe thead th {\n        text-align: right;\n    }\n</style>\n<table border=\"1\" class=\"dataframe\">\n  <thead>\n    <tr style=\"text-align: right;\">\n      <th></th>\n      <th>Date</th>\n      <th>Open</th>\n      <th>High</th>\n      <th>Low</th>\n      <th>Close</th>\n      <th>Volume</th>\n      <th>Dividends</th>\n      <th>Stock Splits</th>\n      <th>Mt</th>\n      <th>Price Change</th>\n      <th>...</th>\n      <th>Larry Williams R 10 Day</th>\n      <th>Larry Williams R 20 Day</th>\n      <th>AD Oscillator</th>\n      <th>5 Day CCI</th>\n      <th>10 Day CCI</th>\n      <th>20 Day CCI</th>\n      <th>Day</th>\n      <th>Month</th>\n      <th>Year</th>\n      <th>Days From IPO</th>\n    </tr>\n  </thead>\n  <tbody>\n    <tr>\n      <th>2400</th>\n      <td>2020-01-10</td>\n      <td>96.358002</td>\n      <td>96.987999</td>\n      <td>94.739998</td>\n      <td>95.629997</td>\n      <td>64797500</td>\n      <td>0</td>\n      <td>0.0</td>\n      <td>95.785998</td>\n      <td>-0.006627</td>\n      <td>...</td>\n      <td>21.350313</td>\n      <td>14.185633</td>\n      <td>0.604093</td>\n      <td>30.133554</td>\n      <td>74.851904</td>\n      <td>101.626368</td>\n      <td>10</td>\n      <td>1</td>\n      <td>2020</td>\n      <td>3482</td>\n    </tr>\n    <tr>\n      <th>2401</th>\n      <td>2020-01-13</td>\n      <td>98.699997</td>\n      <td>105.125999</td>\n      <td>98.400002</td>\n      <td>104.972000</td>\n      <td>132588000</td>\n      <td>0</td>\n      <td>0.0</td>\n      <td>102.832667</td>\n      <td>0.097689</td>\n      <td>...</td>\n      <td>0.623227</td>\n      <td>0.450317</td>\n      <td>0.022896</td>\n      <td>117.768813</td>\n      <td>118.941678</td>\n      <td>142.356751</td>\n      <td>13</td>\n      <td>1</td>\n      <td>2020</td>\n      <td>3485</td>\n    </tr>\n    <tr>\n      <th>2402</th>\n      <td>2020-01-14</td>\n      <td>108.851997</td>\n      <td>109.482002</td>\n      <td>104.980003</td>\n      <td>107.584000</td>\n      <td>144981000</td>\n      <td>0</td>\n      <td>0.0</td>\n      <td>107.348668</td>\n      <td>0.024883</td>\n      <td>...</td>\n      <td>6.529975</td>\n      <td>5.132233</td>\n      <td>0.421591</td>\n      <td>110.882193</td>\n      <td>123.259852</td>\n      <td>153.715105</td>\n      <td>14</td>\n      <td>1</td>\n      <td>2020</td>\n      <td>3486</td>\n    </tr>\n    <tr>\n      <th>2403</th>\n      <td>2020-01-15</td>\n      <td>105.952003</td>\n      <td>107.568001</td>\n      <td>103.358002</td>\n      <td>103.699997</td>\n      <td>86844000</td>\n      <td>0</td>\n      <td>0.0</td>\n      <td>104.875333</td>\n      <td>-0.036102</td>\n      <td>...</td>\n      <td>22.999226</td>\n      <td>16.856175</td>\n      <td>0.918766</td>\n      <td>49.327110</td>\n      <td>84.708837</td>\n      <td>118.959391</td>\n      <td>15</td>\n      <td>1</td>\n      <td>2020</td>\n      <td>3487</td>\n    </tr>\n    <tr>\n      <th>2404</th>\n      <td>2020-01-16</td>\n      <td>98.750000</td>\n      <td>102.891998</td>\n      <td>98.433998</td>\n      <td>102.697998</td>\n      <td>108683500</td>\n      <td>0</td>\n      <td>0.0</td>\n      <td>101.341331</td>\n      <td>-0.009662</td>\n      <td>...</td>\n      <td>30.699630</td>\n      <td>20.332084</td>\n      <td>0.043517</td>\n      <td>-18.773801</td>\n      <td>39.949969</td>\n      <td>84.145863</td>\n      <td>16</td>\n      <td>1</td>\n      <td>2020</td>\n      <td>3488</td>\n    </tr>\n    <tr>\n      <th>...</th>\n      <td>...</td>\n      <td>...</td>\n      <td>...</td>\n      <td>...</td>\n      <td>...</td>\n      <td>...</td>\n      <td>...</td>\n      <td>...</td>\n      <td>...</td>\n      <td>...</td>\n      <td>...</td>\n      <td>...</td>\n      <td>...</td>\n      <td>...</td>\n      <td>...</td>\n      <td>...</td>\n      <td>...</td>\n      <td>...</td>\n      <td>...</td>\n      <td>...</td>\n      <td>...</td>\n    </tr>\n    <tr>\n      <th>2690</th>\n      <td>2021-03-08</td>\n      <td>600.549988</td>\n      <td>620.130005</td>\n      <td>558.789978</td>\n      <td>563.000000</td>\n      <td>51497000</td>\n      <td>0</td>\n      <td>0.0</td>\n      <td>580.639994</td>\n      <td>-0.058450</td>\n      <td>...</td>\n      <td>92.970546</td>\n      <td>93.050134</td>\n      <td>0.931366</td>\n      <td>-84.781918</td>\n      <td>-131.127524</td>\n      <td>-134.852119</td>\n      <td>8</td>\n      <td>3</td>\n      <td>2021</td>\n      <td>3905</td>\n    </tr>\n    <tr>\n      <th>2691</th>\n      <td>2021-03-09</td>\n      <td>608.179993</td>\n      <td>678.090027</td>\n      <td>595.210022</td>\n      <td>673.580017</td>\n      <td>67028000</td>\n      <td>0</td>\n      <td>0.0</td>\n      <td>648.960022</td>\n      <td>0.196412</td>\n      <td>...</td>\n      <td>59.907304</td>\n      <td>59.907304</td>\n      <td>0.054416</td>\n      <td>17.433400</td>\n      <td>-29.012309</td>\n      <td>-70.287011</td>\n      <td>9</td>\n      <td>3</td>\n      <td>2021</td>\n      <td>3906</td>\n    </tr>\n    <tr>\n      <th>2692</th>\n      <td>2021-03-10</td>\n      <td>700.299988</td>\n      <td>717.849976</td>\n      <td>655.059998</td>\n      <td>668.059998</td>\n      <td>60486700</td>\n      <td>0</td>\n      <td>0.0</td>\n      <td>680.323324</td>\n      <td>-0.008195</td>\n      <td>...</td>\n      <td>61.557781</td>\n      <td>61.557781</td>\n      <td>0.792961</td>\n      <td>57.428626</td>\n      <td>23.986065</td>\n      <td>-37.107325</td>\n      <td>10</td>\n      <td>3</td>\n      <td>2021</td>\n      <td>3907</td>\n    </tr>\n    <tr>\n      <th>2693</th>\n      <td>2021-03-11</td>\n      <td>699.400024</td>\n      <td>702.500000</td>\n      <td>677.179993</td>\n      <td>699.599976</td>\n      <td>36106300</td>\n      <td>0</td>\n      <td>0.0</td>\n      <td>693.093323</td>\n      <td>0.047211</td>\n      <td>...</td>\n      <td>52.127379</td>\n      <td>52.127379</td>\n      <td>0.114535</td>\n      <td>79.002814</td>\n      <td>44.476234</td>\n      <td>-19.977381</td>\n      <td>11</td>\n      <td>3</td>\n      <td>2021</td>\n      <td>3908</td>\n    </tr>\n    <tr>\n      <th>2694</th>\n      <td>2021-03-12</td>\n      <td>670.000000</td>\n      <td>694.880005</td>\n      <td>666.140015</td>\n      <td>693.729980</td>\n      <td>33523900</td>\n      <td>0</td>\n      <td>0.0</td>\n      <td>684.916667</td>\n      <td>-0.008391</td>\n      <td>...</td>\n      <td>53.882498</td>\n      <td>53.882498</td>\n      <td>0.040015</td>\n      <td>44.138571</td>\n      <td>30.995537</td>\n      <td>-23.109574</td>\n      <td>12</td>\n      <td>3</td>\n      <td>2021</td>\n      <td>3909</td>\n    </tr>\n  </tbody>\n</table>\n<p>295 rows × 75 columns</p>\n</div>"
     },
     "metadata": {},
     "execution_count": 11
    }
   ],
   "source": [
    "df = pd.read_csv(\"tsla_data.csv\")\n",
    "df[2400:]\n"
   ]
  },
  {
   "cell_type": "code",
   "execution_count": 3,
   "metadata": {},
   "outputs": [
    {
     "output_type": "display_data",
     "data": {
      "text/plain": "<Figure size 1152x576 with 1 Axes>",
      "image/svg+xml": "<?xml version=\"1.0\" encoding=\"utf-8\" standalone=\"no\"?>\n<!DOCTYPE svg PUBLIC \"-//W3C//DTD SVG 1.1//EN\"\n  \"http://www.w3.org/Graphics/SVG/1.1/DTD/svg11.dtd\">\n<!-- Created with matplotlib (https://matplotlib.org/) -->\n<svg height=\"465.958125pt\" version=\"1.1\" viewBox=\"0 0 942.828125 465.958125\" width=\"942.828125pt\" xmlns=\"http://www.w3.org/2000/svg\" xmlns:xlink=\"http://www.w3.org/1999/xlink\">\n <metadata>\n  <rdf:RDF xmlns:cc=\"http://creativecommons.org/ns#\" xmlns:dc=\"http://purl.org/dc/elements/1.1/\" xmlns:rdf=\"http://www.w3.org/1999/02/22-rdf-syntax-ns#\">\n   <cc:Work>\n    <dc:type rdf:resource=\"http://purl.org/dc/dcmitype/StillImage\"/>\n    <dc:date>2021-03-14T20:24:00.240086</dc:date>\n    <dc:format>image/svg+xml</dc:format>\n    <dc:creator>\n     <cc:Agent>\n      <dc:title>Matplotlib v3.3.4, https://matplotlib.org/</dc:title>\n     </cc:Agent>\n    </dc:creator>\n   </cc:Work>\n  </rdf:RDF>\n </metadata>\n <defs>\n  <style type=\"text/css\">*{stroke-linecap:butt;stroke-linejoin:round;}</style>\n </defs>\n <g id=\"figure_1\">\n  <g id=\"patch_1\">\n   <path d=\"M 0 465.958125 \nL 942.828125 465.958125 \nL 942.828125 0 \nL 0 0 \nz\n\" style=\"fill:none;\"/>\n  </g>\n  <g id=\"axes_1\">\n   <g id=\"patch_2\">\n    <path d=\"M 42.828125 442.08 \nL 935.628125 442.08 \nL 935.628125 7.2 \nL 42.828125 7.2 \nz\n\" style=\"fill:#ffffff;\"/>\n   </g>\n   <g id=\"PathCollection_1\">\n    <defs>\n     <path d=\"M 0 3 \nC 0.795609 3 1.55874 2.683901 2.12132 2.12132 \nC 2.683901 1.55874 3 0.795609 3 0 \nC 3 -0.795609 2.683901 -1.55874 2.12132 -2.12132 \nC 1.55874 -2.683901 0.795609 -3 0 -3 \nC -0.795609 -3 -1.55874 -2.683901 -2.12132 -2.12132 \nC -2.683901 -1.55874 -3 -0.795609 -3 0 \nC -3 0.795609 -2.683901 1.55874 -2.12132 2.12132 \nC -1.55874 2.683901 -0.795609 3 0 3 \nz\n\" id=\"m10a9bf99dc\" style=\"stroke:#ff0000;\"/>\n    </defs>\n    <g clip-path=\"url(#pdd5d35e472)\">\n     <use style=\"fill:#ff0000;stroke:#ff0000;\" x=\"83.409943\" xlink:href=\"#m10a9bf99dc\" y=\"272.21253\"/>\n     <use style=\"fill:#ff0000;stroke:#ff0000;\" x=\"115.875398\" xlink:href=\"#m10a9bf99dc\" y=\"168.250268\"/>\n     <use style=\"fill:#ff0000;stroke:#ff0000;\" x=\"148.340852\" xlink:href=\"#m10a9bf99dc\" y=\"177.06747\"/>\n     <use style=\"fill:#ff0000;stroke:#ff0000;\" x=\"180.806307\" xlink:href=\"#m10a9bf99dc\" y=\"180.348421\"/>\n     <use style=\"fill:#ff0000;stroke:#ff0000;\" x=\"213.271761\" xlink:href=\"#m10a9bf99dc\" y=\"147.334287\"/>\n     <use style=\"fill:#ff0000;stroke:#ff0000;\" x=\"310.668125\" xlink:href=\"#m10a9bf99dc\" y=\"178.503003\"/>\n     <use style=\"fill:#ff0000;stroke:#ff0000;\" x=\"343.13358\" xlink:href=\"#m10a9bf99dc\" y=\"119.651776\"/>\n     <use style=\"fill:#ff0000;stroke:#ff0000;\" x=\"375.599034\" xlink:href=\"#m10a9bf99dc\" y=\"70.028887\"/>\n     <use style=\"fill:#ff0000;stroke:#ff0000;\" x=\"408.064489\" xlink:href=\"#m10a9bf99dc\" y=\"100.376583\"/>\n     <use style=\"fill:#ff0000;stroke:#ff0000;\" x=\"440.529943\" xlink:href=\"#m10a9bf99dc\" y=\"98.121282\"/>\n     <use style=\"fill:#ff0000;stroke:#ff0000;\" x=\"570.391761\" xlink:href=\"#m10a9bf99dc\" y=\"26.967273\"/>\n     <use style=\"fill:#ff0000;stroke:#ff0000;\" x=\"602.857216\" xlink:href=\"#m10a9bf99dc\" y=\"35.169336\"/>\n     <use style=\"fill:#ff0000;stroke:#ff0000;\" x=\"635.32267\" xlink:href=\"#m10a9bf99dc\" y=\"120.882054\"/>\n     <use style=\"fill:#ff0000;stroke:#ff0000;\" x=\"667.788125\" xlink:href=\"#m10a9bf99dc\" y=\"281.440242\"/>\n     <use style=\"fill:#ff0000;stroke:#ff0000;\" x=\"765.184489\" xlink:href=\"#m10a9bf99dc\" y=\"306.662197\"/>\n     <use style=\"fill:#ff0000;stroke:#ff0000;\" x=\"797.649943\" xlink:href=\"#m10a9bf99dc\" y=\"193.266967\"/>\n     <use style=\"fill:#ff0000;stroke:#ff0000;\" x=\"830.115398\" xlink:href=\"#m10a9bf99dc\" y=\"225.050197\"/>\n     <use style=\"fill:#ff0000;stroke:#ff0000;\" x=\"862.580852\" xlink:href=\"#m10a9bf99dc\" y=\"422.312727\"/>\n     <use style=\"fill:#ff0000;stroke:#ff0000;\" x=\"895.046307\" xlink:href=\"#m10a9bf99dc\" y=\"362.231848\"/>\n    </g>\n   </g>\n   <g id=\"matplotlib.axis_1\">\n    <g id=\"xtick_1\">\n     <g id=\"line2d_1\">\n      <defs>\n       <path d=\"M 0 0 \nL 0 3.5 \n\" id=\"mcbc543c02d\" style=\"stroke:#000000;stroke-width:0.8;\"/>\n      </defs>\n      <g>\n       <use style=\"stroke:#000000;stroke-width:0.8;\" x=\"50.944489\" xlink:href=\"#mcbc543c02d\" y=\"442.08\"/>\n      </g>\n     </g>\n     <g id=\"text_1\">\n      <!-- 0 -->\n      <g transform=\"translate(47.763239 456.678437)scale(0.1 -0.1)\">\n       <defs>\n        <path d=\"M 31.78125 66.40625 \nQ 24.171875 66.40625 20.328125 58.90625 \nQ 16.5 51.421875 16.5 36.375 \nQ 16.5 21.390625 20.328125 13.890625 \nQ 24.171875 6.390625 31.78125 6.390625 \nQ 39.453125 6.390625 43.28125 13.890625 \nQ 47.125 21.390625 47.125 36.375 \nQ 47.125 51.421875 43.28125 58.90625 \nQ 39.453125 66.40625 31.78125 66.40625 \nz\nM 31.78125 74.21875 \nQ 44.046875 74.21875 50.515625 64.515625 \nQ 56.984375 54.828125 56.984375 36.375 \nQ 56.984375 17.96875 50.515625 8.265625 \nQ 44.046875 -1.421875 31.78125 -1.421875 \nQ 19.53125 -1.421875 13.0625 8.265625 \nQ 6.59375 17.96875 6.59375 36.375 \nQ 6.59375 54.828125 13.0625 64.515625 \nQ 19.53125 74.21875 31.78125 74.21875 \nz\n\" id=\"DejaVuSans-48\"/>\n       </defs>\n       <use xlink:href=\"#DejaVuSans-48\"/>\n      </g>\n     </g>\n    </g>\n    <g id=\"xtick_2\">\n     <g id=\"line2d_2\">\n      <g>\n       <use style=\"stroke:#000000;stroke-width:0.8;\" x=\"213.271761\" xlink:href=\"#mcbc543c02d\" y=\"442.08\"/>\n      </g>\n     </g>\n     <g id=\"text_2\">\n      <!-- 5 -->\n      <g transform=\"translate(210.090511 456.678437)scale(0.1 -0.1)\">\n       <defs>\n        <path d=\"M 10.796875 72.90625 \nL 49.515625 72.90625 \nL 49.515625 64.59375 \nL 19.828125 64.59375 \nL 19.828125 46.734375 \nQ 21.96875 47.46875 24.109375 47.828125 \nQ 26.265625 48.1875 28.421875 48.1875 \nQ 40.625 48.1875 47.75 41.5 \nQ 54.890625 34.8125 54.890625 23.390625 \nQ 54.890625 11.625 47.5625 5.09375 \nQ 40.234375 -1.421875 26.90625 -1.421875 \nQ 22.3125 -1.421875 17.546875 -0.640625 \nQ 12.796875 0.140625 7.71875 1.703125 \nL 7.71875 11.625 \nQ 12.109375 9.234375 16.796875 8.0625 \nQ 21.484375 6.890625 26.703125 6.890625 \nQ 35.15625 6.890625 40.078125 11.328125 \nQ 45.015625 15.765625 45.015625 23.390625 \nQ 45.015625 31 40.078125 35.4375 \nQ 35.15625 39.890625 26.703125 39.890625 \nQ 22.75 39.890625 18.8125 39.015625 \nQ 14.890625 38.140625 10.796875 36.28125 \nz\n\" id=\"DejaVuSans-53\"/>\n       </defs>\n       <use xlink:href=\"#DejaVuSans-53\"/>\n      </g>\n     </g>\n    </g>\n    <g id=\"xtick_3\">\n     <g id=\"line2d_3\">\n      <g>\n       <use style=\"stroke:#000000;stroke-width:0.8;\" x=\"375.599034\" xlink:href=\"#mcbc543c02d\" y=\"442.08\"/>\n      </g>\n     </g>\n     <g id=\"text_3\">\n      <!-- 10 -->\n      <g transform=\"translate(369.236534 456.678437)scale(0.1 -0.1)\">\n       <defs>\n        <path d=\"M 12.40625 8.296875 \nL 28.515625 8.296875 \nL 28.515625 63.921875 \nL 10.984375 60.40625 \nL 10.984375 69.390625 \nL 28.421875 72.90625 \nL 38.28125 72.90625 \nL 38.28125 8.296875 \nL 54.390625 8.296875 \nL 54.390625 0 \nL 12.40625 0 \nz\n\" id=\"DejaVuSans-49\"/>\n       </defs>\n       <use xlink:href=\"#DejaVuSans-49\"/>\n       <use x=\"63.623047\" xlink:href=\"#DejaVuSans-48\"/>\n      </g>\n     </g>\n    </g>\n    <g id=\"xtick_4\">\n     <g id=\"line2d_4\">\n      <g>\n       <use style=\"stroke:#000000;stroke-width:0.8;\" x=\"537.926307\" xlink:href=\"#mcbc543c02d\" y=\"442.08\"/>\n      </g>\n     </g>\n     <g id=\"text_4\">\n      <!-- 15 -->\n      <g transform=\"translate(531.563807 456.678437)scale(0.1 -0.1)\">\n       <use xlink:href=\"#DejaVuSans-49\"/>\n       <use x=\"63.623047\" xlink:href=\"#DejaVuSans-53\"/>\n      </g>\n     </g>\n    </g>\n    <g id=\"xtick_5\">\n     <g id=\"line2d_5\">\n      <g>\n       <use style=\"stroke:#000000;stroke-width:0.8;\" x=\"700.25358\" xlink:href=\"#mcbc543c02d\" y=\"442.08\"/>\n      </g>\n     </g>\n     <g id=\"text_5\">\n      <!-- 20 -->\n      <g transform=\"translate(693.89108 456.678437)scale(0.1 -0.1)\">\n       <defs>\n        <path d=\"M 19.1875 8.296875 \nL 53.609375 8.296875 \nL 53.609375 0 \nL 7.328125 0 \nL 7.328125 8.296875 \nQ 12.9375 14.109375 22.625 23.890625 \nQ 32.328125 33.6875 34.8125 36.53125 \nQ 39.546875 41.84375 41.421875 45.53125 \nQ 43.3125 49.21875 43.3125 52.78125 \nQ 43.3125 58.59375 39.234375 62.25 \nQ 35.15625 65.921875 28.609375 65.921875 \nQ 23.96875 65.921875 18.8125 64.3125 \nQ 13.671875 62.703125 7.8125 59.421875 \nL 7.8125 69.390625 \nQ 13.765625 71.78125 18.9375 73 \nQ 24.125 74.21875 28.421875 74.21875 \nQ 39.75 74.21875 46.484375 68.546875 \nQ 53.21875 62.890625 53.21875 53.421875 \nQ 53.21875 48.921875 51.53125 44.890625 \nQ 49.859375 40.875 45.40625 35.40625 \nQ 44.1875 33.984375 37.640625 27.21875 \nQ 31.109375 20.453125 19.1875 8.296875 \nz\n\" id=\"DejaVuSans-50\"/>\n       </defs>\n       <use xlink:href=\"#DejaVuSans-50\"/>\n       <use x=\"63.623047\" xlink:href=\"#DejaVuSans-48\"/>\n      </g>\n     </g>\n    </g>\n    <g id=\"xtick_6\">\n     <g id=\"line2d_6\">\n      <g>\n       <use style=\"stroke:#000000;stroke-width:0.8;\" x=\"862.580852\" xlink:href=\"#mcbc543c02d\" y=\"442.08\"/>\n      </g>\n     </g>\n     <g id=\"text_6\">\n      <!-- 25 -->\n      <g transform=\"translate(856.218352 456.678437)scale(0.1 -0.1)\">\n       <use xlink:href=\"#DejaVuSans-50\"/>\n       <use x=\"63.623047\" xlink:href=\"#DejaVuSans-53\"/>\n      </g>\n     </g>\n    </g>\n   </g>\n   <g id=\"matplotlib.axis_2\">\n    <g id=\"ytick_1\">\n     <g id=\"line2d_7\">\n      <defs>\n       <path d=\"M 0 0 \nL -3.5 0 \n\" id=\"mb5836ae68a\" style=\"stroke:#000000;stroke-width:0.8;\"/>\n      </defs>\n      <g>\n       <use style=\"stroke:#000000;stroke-width:0.8;\" x=\"42.828125\" xlink:href=\"#mb5836ae68a\" y=\"415.956081\"/>\n      </g>\n     </g>\n     <g id=\"text_7\">\n      <!-- 255.0 -->\n      <g transform=\"translate(7.2 419.7553)scale(0.1 -0.1)\">\n       <defs>\n        <path d=\"M 10.6875 12.40625 \nL 21 12.40625 \nL 21 0 \nL 10.6875 0 \nz\n\" id=\"DejaVuSans-46\"/>\n       </defs>\n       <use xlink:href=\"#DejaVuSans-50\"/>\n       <use x=\"63.623047\" xlink:href=\"#DejaVuSans-53\"/>\n       <use x=\"127.246094\" xlink:href=\"#DejaVuSans-53\"/>\n       <use x=\"190.869141\" xlink:href=\"#DejaVuSans-46\"/>\n       <use x=\"222.65625\" xlink:href=\"#DejaVuSans-48\"/>\n      </g>\n     </g>\n    </g>\n    <g id=\"ytick_2\">\n     <g id=\"line2d_8\">\n      <g>\n       <use style=\"stroke:#000000;stroke-width:0.8;\" x=\"42.828125\" xlink:href=\"#mb5836ae68a\" y=\"364.692404\"/>\n      </g>\n     </g>\n     <g id=\"text_8\">\n      <!-- 257.5 -->\n      <g transform=\"translate(7.2 368.491623)scale(0.1 -0.1)\">\n       <defs>\n        <path d=\"M 8.203125 72.90625 \nL 55.078125 72.90625 \nL 55.078125 68.703125 \nL 28.609375 0 \nL 18.3125 0 \nL 43.21875 64.59375 \nL 8.203125 64.59375 \nz\n\" id=\"DejaVuSans-55\"/>\n       </defs>\n       <use xlink:href=\"#DejaVuSans-50\"/>\n       <use x=\"63.623047\" xlink:href=\"#DejaVuSans-53\"/>\n       <use x=\"127.246094\" xlink:href=\"#DejaVuSans-55\"/>\n       <use x=\"190.869141\" xlink:href=\"#DejaVuSans-46\"/>\n       <use x=\"222.65625\" xlink:href=\"#DejaVuSans-53\"/>\n      </g>\n     </g>\n    </g>\n    <g id=\"ytick_3\">\n     <g id=\"line2d_9\">\n      <g>\n       <use style=\"stroke:#000000;stroke-width:0.8;\" x=\"42.828125\" xlink:href=\"#mb5836ae68a\" y=\"313.428727\"/>\n      </g>\n     </g>\n     <g id=\"text_9\">\n      <!-- 260.0 -->\n      <g transform=\"translate(7.2 317.227945)scale(0.1 -0.1)\">\n       <defs>\n        <path d=\"M 33.015625 40.375 \nQ 26.375 40.375 22.484375 35.828125 \nQ 18.609375 31.296875 18.609375 23.390625 \nQ 18.609375 15.53125 22.484375 10.953125 \nQ 26.375 6.390625 33.015625 6.390625 \nQ 39.65625 6.390625 43.53125 10.953125 \nQ 47.40625 15.53125 47.40625 23.390625 \nQ 47.40625 31.296875 43.53125 35.828125 \nQ 39.65625 40.375 33.015625 40.375 \nz\nM 52.59375 71.296875 \nL 52.59375 62.3125 \nQ 48.875 64.0625 45.09375 64.984375 \nQ 41.3125 65.921875 37.59375 65.921875 \nQ 27.828125 65.921875 22.671875 59.328125 \nQ 17.53125 52.734375 16.796875 39.40625 \nQ 19.671875 43.65625 24.015625 45.921875 \nQ 28.375 48.1875 33.59375 48.1875 \nQ 44.578125 48.1875 50.953125 41.515625 \nQ 57.328125 34.859375 57.328125 23.390625 \nQ 57.328125 12.15625 50.6875 5.359375 \nQ 44.046875 -1.421875 33.015625 -1.421875 \nQ 20.359375 -1.421875 13.671875 8.265625 \nQ 6.984375 17.96875 6.984375 36.375 \nQ 6.984375 53.65625 15.1875 63.9375 \nQ 23.390625 74.21875 37.203125 74.21875 \nQ 40.921875 74.21875 44.703125 73.484375 \nQ 48.484375 72.75 52.59375 71.296875 \nz\n\" id=\"DejaVuSans-54\"/>\n       </defs>\n       <use xlink:href=\"#DejaVuSans-50\"/>\n       <use x=\"63.623047\" xlink:href=\"#DejaVuSans-54\"/>\n       <use x=\"127.246094\" xlink:href=\"#DejaVuSans-48\"/>\n       <use x=\"190.869141\" xlink:href=\"#DejaVuSans-46\"/>\n       <use x=\"222.65625\" xlink:href=\"#DejaVuSans-48\"/>\n      </g>\n     </g>\n    </g>\n    <g id=\"ytick_4\">\n     <g id=\"line2d_10\">\n      <g>\n       <use style=\"stroke:#000000;stroke-width:0.8;\" x=\"42.828125\" xlink:href=\"#mb5836ae68a\" y=\"262.165049\"/>\n      </g>\n     </g>\n     <g id=\"text_10\">\n      <!-- 262.5 -->\n      <g transform=\"translate(7.2 265.964268)scale(0.1 -0.1)\">\n       <use xlink:href=\"#DejaVuSans-50\"/>\n       <use x=\"63.623047\" xlink:href=\"#DejaVuSans-54\"/>\n       <use x=\"127.246094\" xlink:href=\"#DejaVuSans-50\"/>\n       <use x=\"190.869141\" xlink:href=\"#DejaVuSans-46\"/>\n       <use x=\"222.65625\" xlink:href=\"#DejaVuSans-53\"/>\n      </g>\n     </g>\n    </g>\n    <g id=\"ytick_5\">\n     <g id=\"line2d_11\">\n      <g>\n       <use style=\"stroke:#000000;stroke-width:0.8;\" x=\"42.828125\" xlink:href=\"#mb5836ae68a\" y=\"210.901372\"/>\n      </g>\n     </g>\n     <g id=\"text_11\">\n      <!-- 265.0 -->\n      <g transform=\"translate(7.2 214.700591)scale(0.1 -0.1)\">\n       <use xlink:href=\"#DejaVuSans-50\"/>\n       <use x=\"63.623047\" xlink:href=\"#DejaVuSans-54\"/>\n       <use x=\"127.246094\" xlink:href=\"#DejaVuSans-53\"/>\n       <use x=\"190.869141\" xlink:href=\"#DejaVuSans-46\"/>\n       <use x=\"222.65625\" xlink:href=\"#DejaVuSans-48\"/>\n      </g>\n     </g>\n    </g>\n    <g id=\"ytick_6\">\n     <g id=\"line2d_12\">\n      <g>\n       <use style=\"stroke:#000000;stroke-width:0.8;\" x=\"42.828125\" xlink:href=\"#mb5836ae68a\" y=\"159.637695\"/>\n      </g>\n     </g>\n     <g id=\"text_12\">\n      <!-- 267.5 -->\n      <g transform=\"translate(7.2 163.436913)scale(0.1 -0.1)\">\n       <use xlink:href=\"#DejaVuSans-50\"/>\n       <use x=\"63.623047\" xlink:href=\"#DejaVuSans-54\"/>\n       <use x=\"127.246094\" xlink:href=\"#DejaVuSans-55\"/>\n       <use x=\"190.869141\" xlink:href=\"#DejaVuSans-46\"/>\n       <use x=\"222.65625\" xlink:href=\"#DejaVuSans-53\"/>\n      </g>\n     </g>\n    </g>\n    <g id=\"ytick_7\">\n     <g id=\"line2d_13\">\n      <g>\n       <use style=\"stroke:#000000;stroke-width:0.8;\" x=\"42.828125\" xlink:href=\"#mb5836ae68a\" y=\"108.374017\"/>\n      </g>\n     </g>\n     <g id=\"text_13\">\n      <!-- 270.0 -->\n      <g transform=\"translate(7.2 112.173236)scale(0.1 -0.1)\">\n       <use xlink:href=\"#DejaVuSans-50\"/>\n       <use x=\"63.623047\" xlink:href=\"#DejaVuSans-55\"/>\n       <use x=\"127.246094\" xlink:href=\"#DejaVuSans-48\"/>\n       <use x=\"190.869141\" xlink:href=\"#DejaVuSans-46\"/>\n       <use x=\"222.65625\" xlink:href=\"#DejaVuSans-48\"/>\n      </g>\n     </g>\n    </g>\n    <g id=\"ytick_8\">\n     <g id=\"line2d_14\">\n      <g>\n       <use style=\"stroke:#000000;stroke-width:0.8;\" x=\"42.828125\" xlink:href=\"#mb5836ae68a\" y=\"57.11034\"/>\n      </g>\n     </g>\n     <g id=\"text_14\">\n      <!-- 272.5 -->\n      <g transform=\"translate(7.2 60.909559)scale(0.1 -0.1)\">\n       <use xlink:href=\"#DejaVuSans-50\"/>\n       <use x=\"63.623047\" xlink:href=\"#DejaVuSans-55\"/>\n       <use x=\"127.246094\" xlink:href=\"#DejaVuSans-50\"/>\n       <use x=\"190.869141\" xlink:href=\"#DejaVuSans-46\"/>\n       <use x=\"222.65625\" xlink:href=\"#DejaVuSans-53\"/>\n      </g>\n     </g>\n    </g>\n   </g>\n   <g id=\"line2d_15\">\n    <path clip-path=\"url(#pdd5d35e472)\" d=\"M 83.409943 270.162895 \nL 115.875398 170.307614 \nL 148.340852 175.01076 \nL 180.806307 182.404708 \nL 213.271761 145.279565 \nL 310.668125 180.545393 \nL 343.13358 117.589658 \nL 375.599034 72.08486 \nL 408.064489 98.325396 \nL 440.529943 100.178659 \nL 570.391761 29.007599 \nL 602.857216 33.120765 \nL 635.32267 122.929857 \nL 667.788125 279.396714 \nL 765.184489 308.712363 \nL 797.649943 191.223803 \nL 830.115398 227.096915 \nL 862.580852 420.267727 \nL 895.046307 364.281998 \n\" style=\"fill:none;stroke:#008000;stroke-linecap:square;stroke-width:1.5;\"/>\n   </g>\n   <g id=\"line2d_16\">\n    <path clip-path=\"url(#pdd5d35e472)\" d=\"M 83.409943 145.996826 \nL 115.875398 146.42002 \nL 148.340852 147.125342 \nL 180.806307 148.112794 \nL 213.271761 149.382374 \nL 310.668125 154.88389 \nL 343.13358 157.281986 \nL 375.599034 159.962212 \nL 408.064489 162.924566 \nL 440.529943 166.16905 \nL 570.391761 181.968274 \nL 602.857216 186.623403 \nL 635.32267 191.56066 \nL 667.788125 196.780047 \nL 765.184489 214.13098 \nL 797.649943 220.478883 \nL 830.115398 227.108915 \nL 862.580852 234.021075 \nL 895.046307 241.215365 \n\" style=\"fill:none;stroke:#ffa500;stroke-linecap:square;stroke-width:1.5;\"/>\n   </g>\n   <g id=\"line2d_17\">\n    <path clip-path=\"url(#pdd5d35e472)\" d=\"M 83.409943 156.088059 \nL 115.875398 158.997259 \nL 148.340852 161.906458 \nL 180.806307 164.815658 \nL 213.271761 167.724857 \nL 310.668125 176.452456 \nL 343.13358 179.361656 \nL 375.599034 182.270855 \nL 408.064489 185.180055 \nL 440.529943 188.089255 \nL 570.391761 199.726053 \nL 602.857216 202.635253 \nL 635.32267 205.544452 \nL 667.788125 208.453652 \nL 765.184489 217.181251 \nL 797.649943 220.09045 \nL 830.115398 222.99965 \nL 862.580852 225.90885 \nL 895.046307 228.818049 \n\" style=\"fill:none;stroke:#0000ff;stroke-linecap:square;stroke-width:1.5;\"/>\n   </g>\n   <g id=\"patch_3\">\n    <path d=\"M 42.828125 442.08 \nL 42.828125 7.2 \n\" style=\"fill:none;stroke:#000000;stroke-linecap:square;stroke-linejoin:miter;stroke-width:0.8;\"/>\n   </g>\n   <g id=\"patch_4\">\n    <path d=\"M 935.628125 442.08 \nL 935.628125 7.2 \n\" style=\"fill:none;stroke:#000000;stroke-linecap:square;stroke-linejoin:miter;stroke-width:0.8;\"/>\n   </g>\n   <g id=\"patch_5\">\n    <path d=\"M 42.828125 442.08 \nL 935.628125 442.08 \n\" style=\"fill:none;stroke:#000000;stroke-linecap:square;stroke-linejoin:miter;stroke-width:0.8;\"/>\n   </g>\n   <g id=\"patch_6\">\n    <path d=\"M 42.828125 7.2 \nL 935.628125 7.2 \n\" style=\"fill:none;stroke:#000000;stroke-linecap:square;stroke-linejoin:miter;stroke-width:0.8;\"/>\n   </g>\n   <g id=\"legend_1\">\n    <g id=\"patch_7\">\n     <path d=\"M 809.059375 73.9125 \nL 928.628125 73.9125 \nQ 930.628125 73.9125 930.628125 71.9125 \nL 930.628125 14.2 \nQ 930.628125 12.2 928.628125 12.2 \nL 809.059375 12.2 \nQ 807.059375 12.2 807.059375 14.2 \nL 807.059375 71.9125 \nQ 807.059375 73.9125 809.059375 73.9125 \nz\n\" style=\"fill:#ffffff;opacity:0.8;stroke:#cccccc;stroke-linejoin:miter;\"/>\n    </g>\n    <g id=\"line2d_18\">\n     <path d=\"M 811.059375 20.298437 \nL 831.059375 20.298437 \n\" style=\"fill:none;stroke:#008000;stroke-linecap:square;stroke-width:1.5;\"/>\n    </g>\n    <g id=\"line2d_19\"/>\n    <g id=\"text_15\">\n     <!-- RBF Model -->\n     <g transform=\"translate(839.059375 23.798437)scale(0.1 -0.1)\">\n      <defs>\n       <path d=\"M 44.390625 34.1875 \nQ 47.5625 33.109375 50.5625 29.59375 \nQ 53.5625 26.078125 56.59375 19.921875 \nL 66.609375 0 \nL 56 0 \nL 46.6875 18.703125 \nQ 43.0625 26.03125 39.671875 28.421875 \nQ 36.28125 30.8125 30.421875 30.8125 \nL 19.671875 30.8125 \nL 19.671875 0 \nL 9.8125 0 \nL 9.8125 72.90625 \nL 32.078125 72.90625 \nQ 44.578125 72.90625 50.734375 67.671875 \nQ 56.890625 62.453125 56.890625 51.90625 \nQ 56.890625 45.015625 53.6875 40.46875 \nQ 50.484375 35.9375 44.390625 34.1875 \nz\nM 19.671875 64.796875 \nL 19.671875 38.921875 \nL 32.078125 38.921875 \nQ 39.203125 38.921875 42.84375 42.21875 \nQ 46.484375 45.515625 46.484375 51.90625 \nQ 46.484375 58.296875 42.84375 61.546875 \nQ 39.203125 64.796875 32.078125 64.796875 \nz\n\" id=\"DejaVuSans-82\"/>\n       <path d=\"M 19.671875 34.8125 \nL 19.671875 8.109375 \nL 35.5 8.109375 \nQ 43.453125 8.109375 47.28125 11.40625 \nQ 51.125 14.703125 51.125 21.484375 \nQ 51.125 28.328125 47.28125 31.5625 \nQ 43.453125 34.8125 35.5 34.8125 \nz\nM 19.671875 64.796875 \nL 19.671875 42.828125 \nL 34.28125 42.828125 \nQ 41.5 42.828125 45.03125 45.53125 \nQ 48.578125 48.25 48.578125 53.8125 \nQ 48.578125 59.328125 45.03125 62.0625 \nQ 41.5 64.796875 34.28125 64.796875 \nz\nM 9.8125 72.90625 \nL 35.015625 72.90625 \nQ 46.296875 72.90625 52.390625 68.21875 \nQ 58.5 63.53125 58.5 54.890625 \nQ 58.5 48.1875 55.375 44.234375 \nQ 52.25 40.28125 46.1875 39.3125 \nQ 53.46875 37.75 57.5 32.78125 \nQ 61.53125 27.828125 61.53125 20.40625 \nQ 61.53125 10.640625 54.890625 5.3125 \nQ 48.25 0 35.984375 0 \nL 9.8125 0 \nz\n\" id=\"DejaVuSans-66\"/>\n       <path d=\"M 9.8125 72.90625 \nL 51.703125 72.90625 \nL 51.703125 64.59375 \nL 19.671875 64.59375 \nL 19.671875 43.109375 \nL 48.578125 43.109375 \nL 48.578125 34.8125 \nL 19.671875 34.8125 \nL 19.671875 0 \nL 9.8125 0 \nz\n\" id=\"DejaVuSans-70\"/>\n       <path id=\"DejaVuSans-32\"/>\n       <path d=\"M 9.8125 72.90625 \nL 24.515625 72.90625 \nL 43.109375 23.296875 \nL 61.8125 72.90625 \nL 76.515625 72.90625 \nL 76.515625 0 \nL 66.890625 0 \nL 66.890625 64.015625 \nL 48.09375 14.015625 \nL 38.1875 14.015625 \nL 19.390625 64.015625 \nL 19.390625 0 \nL 9.8125 0 \nz\n\" id=\"DejaVuSans-77\"/>\n       <path d=\"M 30.609375 48.390625 \nQ 23.390625 48.390625 19.1875 42.75 \nQ 14.984375 37.109375 14.984375 27.296875 \nQ 14.984375 17.484375 19.15625 11.84375 \nQ 23.34375 6.203125 30.609375 6.203125 \nQ 37.796875 6.203125 41.984375 11.859375 \nQ 46.1875 17.53125 46.1875 27.296875 \nQ 46.1875 37.015625 41.984375 42.703125 \nQ 37.796875 48.390625 30.609375 48.390625 \nz\nM 30.609375 56 \nQ 42.328125 56 49.015625 48.375 \nQ 55.71875 40.765625 55.71875 27.296875 \nQ 55.71875 13.875 49.015625 6.21875 \nQ 42.328125 -1.421875 30.609375 -1.421875 \nQ 18.84375 -1.421875 12.171875 6.21875 \nQ 5.515625 13.875 5.515625 27.296875 \nQ 5.515625 40.765625 12.171875 48.375 \nQ 18.84375 56 30.609375 56 \nz\n\" id=\"DejaVuSans-111\"/>\n       <path d=\"M 45.40625 46.390625 \nL 45.40625 75.984375 \nL 54.390625 75.984375 \nL 54.390625 0 \nL 45.40625 0 \nL 45.40625 8.203125 \nQ 42.578125 3.328125 38.25 0.953125 \nQ 33.9375 -1.421875 27.875 -1.421875 \nQ 17.96875 -1.421875 11.734375 6.484375 \nQ 5.515625 14.40625 5.515625 27.296875 \nQ 5.515625 40.1875 11.734375 48.09375 \nQ 17.96875 56 27.875 56 \nQ 33.9375 56 38.25 53.625 \nQ 42.578125 51.265625 45.40625 46.390625 \nz\nM 14.796875 27.296875 \nQ 14.796875 17.390625 18.875 11.75 \nQ 22.953125 6.109375 30.078125 6.109375 \nQ 37.203125 6.109375 41.296875 11.75 \nQ 45.40625 17.390625 45.40625 27.296875 \nQ 45.40625 37.203125 41.296875 42.84375 \nQ 37.203125 48.484375 30.078125 48.484375 \nQ 22.953125 48.484375 18.875 42.84375 \nQ 14.796875 37.203125 14.796875 27.296875 \nz\n\" id=\"DejaVuSans-100\"/>\n       <path d=\"M 56.203125 29.59375 \nL 56.203125 25.203125 \nL 14.890625 25.203125 \nQ 15.484375 15.921875 20.484375 11.0625 \nQ 25.484375 6.203125 34.421875 6.203125 \nQ 39.59375 6.203125 44.453125 7.46875 \nQ 49.3125 8.734375 54.109375 11.28125 \nL 54.109375 2.78125 \nQ 49.265625 0.734375 44.1875 -0.34375 \nQ 39.109375 -1.421875 33.890625 -1.421875 \nQ 20.796875 -1.421875 13.15625 6.1875 \nQ 5.515625 13.8125 5.515625 26.8125 \nQ 5.515625 40.234375 12.765625 48.109375 \nQ 20.015625 56 32.328125 56 \nQ 43.359375 56 49.78125 48.890625 \nQ 56.203125 41.796875 56.203125 29.59375 \nz\nM 47.21875 32.234375 \nQ 47.125 39.59375 43.09375 43.984375 \nQ 39.0625 48.390625 32.421875 48.390625 \nQ 24.90625 48.390625 20.390625 44.140625 \nQ 15.875 39.890625 15.1875 32.171875 \nz\n\" id=\"DejaVuSans-101\"/>\n       <path d=\"M 9.421875 75.984375 \nL 18.40625 75.984375 \nL 18.40625 0 \nL 9.421875 0 \nz\n\" id=\"DejaVuSans-108\"/>\n      </defs>\n      <use xlink:href=\"#DejaVuSans-82\"/>\n      <use x=\"69.482422\" xlink:href=\"#DejaVuSans-66\"/>\n      <use x=\"138.085938\" xlink:href=\"#DejaVuSans-70\"/>\n      <use x=\"195.605469\" xlink:href=\"#DejaVuSans-32\"/>\n      <use x=\"227.392578\" xlink:href=\"#DejaVuSans-77\"/>\n      <use x=\"313.671875\" xlink:href=\"#DejaVuSans-111\"/>\n      <use x=\"374.853516\" xlink:href=\"#DejaVuSans-100\"/>\n      <use x=\"438.330078\" xlink:href=\"#DejaVuSans-101\"/>\n      <use x=\"499.853516\" xlink:href=\"#DejaVuSans-108\"/>\n     </g>\n    </g>\n    <g id=\"line2d_20\">\n     <path d=\"M 811.059375 34.976562 \nL 831.059375 34.976562 \n\" style=\"fill:none;stroke:#ffa500;stroke-linecap:square;stroke-width:1.5;\"/>\n    </g>\n    <g id=\"line2d_21\"/>\n    <g id=\"text_16\">\n     <!-- Polynomial Model -->\n     <g transform=\"translate(839.059375 38.476562)scale(0.1 -0.1)\">\n      <defs>\n       <path d=\"M 19.671875 64.796875 \nL 19.671875 37.40625 \nL 32.078125 37.40625 \nQ 38.96875 37.40625 42.71875 40.96875 \nQ 46.484375 44.53125 46.484375 51.125 \nQ 46.484375 57.671875 42.71875 61.234375 \nQ 38.96875 64.796875 32.078125 64.796875 \nz\nM 9.8125 72.90625 \nL 32.078125 72.90625 \nQ 44.34375 72.90625 50.609375 67.359375 \nQ 56.890625 61.8125 56.890625 51.125 \nQ 56.890625 40.328125 50.609375 34.8125 \nQ 44.34375 29.296875 32.078125 29.296875 \nL 19.671875 29.296875 \nL 19.671875 0 \nL 9.8125 0 \nz\n\" id=\"DejaVuSans-80\"/>\n       <path d=\"M 32.171875 -5.078125 \nQ 28.375 -14.84375 24.75 -17.8125 \nQ 21.140625 -20.796875 15.09375 -20.796875 \nL 7.90625 -20.796875 \nL 7.90625 -13.28125 \nL 13.1875 -13.28125 \nQ 16.890625 -13.28125 18.9375 -11.515625 \nQ 21 -9.765625 23.484375 -3.21875 \nL 25.09375 0.875 \nL 2.984375 54.6875 \nL 12.5 54.6875 \nL 29.59375 11.921875 \nL 46.6875 54.6875 \nL 56.203125 54.6875 \nz\n\" id=\"DejaVuSans-121\"/>\n       <path d=\"M 54.890625 33.015625 \nL 54.890625 0 \nL 45.90625 0 \nL 45.90625 32.71875 \nQ 45.90625 40.484375 42.875 44.328125 \nQ 39.84375 48.1875 33.796875 48.1875 \nQ 26.515625 48.1875 22.3125 43.546875 \nQ 18.109375 38.921875 18.109375 30.90625 \nL 18.109375 0 \nL 9.078125 0 \nL 9.078125 54.6875 \nL 18.109375 54.6875 \nL 18.109375 46.1875 \nQ 21.34375 51.125 25.703125 53.5625 \nQ 30.078125 56 35.796875 56 \nQ 45.21875 56 50.046875 50.171875 \nQ 54.890625 44.34375 54.890625 33.015625 \nz\n\" id=\"DejaVuSans-110\"/>\n       <path d=\"M 52 44.1875 \nQ 55.375 50.25 60.0625 53.125 \nQ 64.75 56 71.09375 56 \nQ 79.640625 56 84.28125 50.015625 \nQ 88.921875 44.046875 88.921875 33.015625 \nL 88.921875 0 \nL 79.890625 0 \nL 79.890625 32.71875 \nQ 79.890625 40.578125 77.09375 44.375 \nQ 74.3125 48.1875 68.609375 48.1875 \nQ 61.625 48.1875 57.5625 43.546875 \nQ 53.515625 38.921875 53.515625 30.90625 \nL 53.515625 0 \nL 44.484375 0 \nL 44.484375 32.71875 \nQ 44.484375 40.625 41.703125 44.40625 \nQ 38.921875 48.1875 33.109375 48.1875 \nQ 26.21875 48.1875 22.15625 43.53125 \nQ 18.109375 38.875 18.109375 30.90625 \nL 18.109375 0 \nL 9.078125 0 \nL 9.078125 54.6875 \nL 18.109375 54.6875 \nL 18.109375 46.1875 \nQ 21.1875 51.21875 25.484375 53.609375 \nQ 29.78125 56 35.6875 56 \nQ 41.65625 56 45.828125 52.96875 \nQ 50 49.953125 52 44.1875 \nz\n\" id=\"DejaVuSans-109\"/>\n       <path d=\"M 9.421875 54.6875 \nL 18.40625 54.6875 \nL 18.40625 0 \nL 9.421875 0 \nz\nM 9.421875 75.984375 \nL 18.40625 75.984375 \nL 18.40625 64.59375 \nL 9.421875 64.59375 \nz\n\" id=\"DejaVuSans-105\"/>\n       <path d=\"M 34.28125 27.484375 \nQ 23.390625 27.484375 19.1875 25 \nQ 14.984375 22.515625 14.984375 16.5 \nQ 14.984375 11.71875 18.140625 8.90625 \nQ 21.296875 6.109375 26.703125 6.109375 \nQ 34.1875 6.109375 38.703125 11.40625 \nQ 43.21875 16.703125 43.21875 25.484375 \nL 43.21875 27.484375 \nz\nM 52.203125 31.203125 \nL 52.203125 0 \nL 43.21875 0 \nL 43.21875 8.296875 \nQ 40.140625 3.328125 35.546875 0.953125 \nQ 30.953125 -1.421875 24.3125 -1.421875 \nQ 15.921875 -1.421875 10.953125 3.296875 \nQ 6 8.015625 6 15.921875 \nQ 6 25.140625 12.171875 29.828125 \nQ 18.359375 34.515625 30.609375 34.515625 \nL 43.21875 34.515625 \nL 43.21875 35.40625 \nQ 43.21875 41.609375 39.140625 45 \nQ 35.0625 48.390625 27.6875 48.390625 \nQ 23 48.390625 18.546875 47.265625 \nQ 14.109375 46.140625 10.015625 43.890625 \nL 10.015625 52.203125 \nQ 14.9375 54.109375 19.578125 55.046875 \nQ 24.21875 56 28.609375 56 \nQ 40.484375 56 46.34375 49.84375 \nQ 52.203125 43.703125 52.203125 31.203125 \nz\n\" id=\"DejaVuSans-97\"/>\n      </defs>\n      <use xlink:href=\"#DejaVuSans-80\"/>\n      <use x=\"56.677734\" xlink:href=\"#DejaVuSans-111\"/>\n      <use x=\"117.859375\" xlink:href=\"#DejaVuSans-108\"/>\n      <use x=\"145.642578\" xlink:href=\"#DejaVuSans-121\"/>\n      <use x=\"204.822266\" xlink:href=\"#DejaVuSans-110\"/>\n      <use x=\"268.201172\" xlink:href=\"#DejaVuSans-111\"/>\n      <use x=\"329.382812\" xlink:href=\"#DejaVuSans-109\"/>\n      <use x=\"426.794922\" xlink:href=\"#DejaVuSans-105\"/>\n      <use x=\"454.578125\" xlink:href=\"#DejaVuSans-97\"/>\n      <use x=\"515.857422\" xlink:href=\"#DejaVuSans-108\"/>\n      <use x=\"543.640625\" xlink:href=\"#DejaVuSans-32\"/>\n      <use x=\"575.427734\" xlink:href=\"#DejaVuSans-77\"/>\n      <use x=\"661.707031\" xlink:href=\"#DejaVuSans-111\"/>\n      <use x=\"722.888672\" xlink:href=\"#DejaVuSans-100\"/>\n      <use x=\"786.365234\" xlink:href=\"#DejaVuSans-101\"/>\n      <use x=\"847.888672\" xlink:href=\"#DejaVuSans-108\"/>\n     </g>\n    </g>\n    <g id=\"line2d_22\">\n     <path d=\"M 811.059375 49.654687 \nL 831.059375 49.654687 \n\" style=\"fill:none;stroke:#0000ff;stroke-linecap:square;stroke-width:1.5;\"/>\n    </g>\n    <g id=\"line2d_23\"/>\n    <g id=\"text_17\">\n     <!-- Linear Model -->\n     <g transform=\"translate(839.059375 53.154687)scale(0.1 -0.1)\">\n      <defs>\n       <path d=\"M 9.8125 72.90625 \nL 19.671875 72.90625 \nL 19.671875 8.296875 \nL 55.171875 8.296875 \nL 55.171875 0 \nL 9.8125 0 \nz\n\" id=\"DejaVuSans-76\"/>\n       <path d=\"M 41.109375 46.296875 \nQ 39.59375 47.171875 37.8125 47.578125 \nQ 36.03125 48 33.890625 48 \nQ 26.265625 48 22.1875 43.046875 \nQ 18.109375 38.09375 18.109375 28.8125 \nL 18.109375 0 \nL 9.078125 0 \nL 9.078125 54.6875 \nL 18.109375 54.6875 \nL 18.109375 46.1875 \nQ 20.953125 51.171875 25.484375 53.578125 \nQ 30.03125 56 36.53125 56 \nQ 37.453125 56 38.578125 55.875 \nQ 39.703125 55.765625 41.0625 55.515625 \nz\n\" id=\"DejaVuSans-114\"/>\n      </defs>\n      <use xlink:href=\"#DejaVuSans-76\"/>\n      <use x=\"55.712891\" xlink:href=\"#DejaVuSans-105\"/>\n      <use x=\"83.496094\" xlink:href=\"#DejaVuSans-110\"/>\n      <use x=\"146.875\" xlink:href=\"#DejaVuSans-101\"/>\n      <use x=\"208.398438\" xlink:href=\"#DejaVuSans-97\"/>\n      <use x=\"269.677734\" xlink:href=\"#DejaVuSans-114\"/>\n      <use x=\"310.791016\" xlink:href=\"#DejaVuSans-32\"/>\n      <use x=\"342.578125\" xlink:href=\"#DejaVuSans-77\"/>\n      <use x=\"428.857422\" xlink:href=\"#DejaVuSans-111\"/>\n      <use x=\"490.039062\" xlink:href=\"#DejaVuSans-100\"/>\n      <use x=\"553.515625\" xlink:href=\"#DejaVuSans-101\"/>\n      <use x=\"615.039062\" xlink:href=\"#DejaVuSans-108\"/>\n     </g>\n    </g>\n    <g id=\"PathCollection_2\">\n     <g>\n      <use style=\"fill:#ff0000;stroke:#ff0000;\" x=\"821.059375\" xlink:href=\"#m10a9bf99dc\" y=\"65.207812\"/>\n     </g>\n    </g>\n    <g id=\"text_18\">\n     <!-- Data -->\n     <g transform=\"translate(839.059375 67.832812)scale(0.1 -0.1)\">\n      <defs>\n       <path d=\"M 19.671875 64.796875 \nL 19.671875 8.109375 \nL 31.59375 8.109375 \nQ 46.6875 8.109375 53.6875 14.9375 \nQ 60.6875 21.78125 60.6875 36.53125 \nQ 60.6875 51.171875 53.6875 57.984375 \nQ 46.6875 64.796875 31.59375 64.796875 \nz\nM 9.8125 72.90625 \nL 30.078125 72.90625 \nQ 51.265625 72.90625 61.171875 64.09375 \nQ 71.09375 55.28125 71.09375 36.53125 \nQ 71.09375 17.671875 61.125 8.828125 \nQ 51.171875 0 30.078125 0 \nL 9.8125 0 \nz\n\" id=\"DejaVuSans-68\"/>\n       <path d=\"M 18.3125 70.21875 \nL 18.3125 54.6875 \nL 36.8125 54.6875 \nL 36.8125 47.703125 \nL 18.3125 47.703125 \nL 18.3125 18.015625 \nQ 18.3125 11.328125 20.140625 9.421875 \nQ 21.96875 7.515625 27.59375 7.515625 \nL 36.8125 7.515625 \nL 36.8125 0 \nL 27.59375 0 \nQ 17.1875 0 13.234375 3.875 \nQ 9.28125 7.765625 9.28125 18.015625 \nL 9.28125 47.703125 \nL 2.6875 47.703125 \nL 2.6875 54.6875 \nL 9.28125 54.6875 \nL 9.28125 70.21875 \nz\n\" id=\"DejaVuSans-116\"/>\n      </defs>\n      <use xlink:href=\"#DejaVuSans-68\"/>\n      <use x=\"77.001953\" xlink:href=\"#DejaVuSans-97\"/>\n      <use x=\"138.28125\" xlink:href=\"#DejaVuSans-116\"/>\n      <use x=\"177.490234\" xlink:href=\"#DejaVuSans-97\"/>\n     </g>\n    </g>\n   </g>\n  </g>\n </g>\n <defs>\n  <clipPath id=\"pdd5d35e472\">\n   <rect height=\"434.88\" width=\"892.8\" x=\"42.828125\" y=\"7.2\"/>\n  </clipPath>\n </defs>\n</svg>\n",
      "image/png": "[encoded data removed]"
     },
     "metadata": {
      "needs_background": "light"
     }
    }
   ],
   "source": [
    "df = pd.read_csv(\"fb_data.csv\")\n",
    "#print(df.tail())\n",
    "\n",
    "feb_df = df[2189:2208]\n",
    "days = list()\n",
    "adj_close_prices = list()\n",
    "\n",
    "df_days = feb_df.loc[:, 'Date']\n",
    "df_adj_close = feb_df.loc[:, 'Close']\n",
    "\n",
    "for day in df_days:\n",
    "    days.append([int(day.split('-')[2])]  )\n",
    "\n",
    "for close in df_adj_close:\n",
    "    adj_close_prices.append( float(close))\n",
    "\n",
    "#print(days)\n",
    "#print(adj_close_prices)\n",
    "\n",
    "lin_svr = SVR(kernel = 'linear', C=1000.0)\n",
    "lin_svr.fit(days,adj_close_prices)\n",
    "\n",
    "pol_svr = SVR(kernel = 'poly', C=1000.0, degree=2)\n",
    "pol_svr.fit(days,adj_close_prices)\n",
    "\n",
    "rbf_svr = SVR(kernel = 'rbf', C=1000.0, gamma = 0.15)\n",
    "rbf_svr.fit(days,adj_close_prices)\n",
    "\n",
    "plt.figure(figsize=(16,8))\n",
    "plt.scatter(days, adj_close_prices, color = 'red', label = 'Data')\n",
    "plt.plot(days, rbf_svr.predict(days),color='green',label = 'RBF Model')\n",
    "plt.plot(days, pol_svr.predict(days),color='orange',label = 'Polynomial Model')\n",
    "plt.plot(days, lin_svr.predict(days),color='blue',label = 'Linear Model')\n",
    "\n",
    "plt.legend()\n",
    "plt.show()"
   ]
  },
  {
   "cell_type": "code",
   "execution_count": 17,
   "metadata": {},
   "outputs": [
    {
     "output_type": "stream",
     "name": "stdout",
     "text": [
      "The RBF SVR predicted:  [257.52001445]\nThe Linear SVR predicted:  [264.12624893]\nThe Polynomial SVR predicted:  [263.52166318]\n"
     ]
    }
   ],
   "source": [
    "days = [[26]]\n",
    "\n",
    "print('The RBF SVR predicted: ', rbf_svr.predict(days))\n",
    "print('The Linear SVR predicted: ', lin_svr.predict(days))\n",
    "print('The Polynomial SVR predicted: ', pol_svr.predict(days))\n"
   ]
  },
  {
   "cell_type": "code",
   "execution_count": 21,
   "metadata": {},
   "outputs": [
    {
     "output_type": "stream",
     "name": "stdout",
     "text": [
      "The actual price:  2207    257.619995\nName: Close, dtype: float64\n"
     ]
    }
   ],
   "source": [
    "print('The actual price: ', actual_price['Close'])"
   ]
  },
  {
   "cell_type": "code",
   "execution_count": 2,
   "metadata": {},
   "outputs": [],
   "source": [
    "googl = yf.Ticker('GOOGL')\n",
    "amzn = yf.Ticker('AMZN')\n",
    "aapl = yf.Ticker('AAPL')\n",
    "fb = yf.Ticker('FB')\n",
    "msft = yf.Ticker('MSFT')\n",
    "tsla = yf.Ticker('TSLA')\n",
    "\n",
    "aapl_df = aapl.history(period='max')\n",
    "amzn_df = amzn.history(period='max')\n",
    "fb_df = fb.history(period='max')\n",
    "googl_df = googl.history(period='max')\n",
    "msft_df = msft.history(period='max')\n",
    "tsla_df = tsla.history(period='max')"
   ]
  },
  {
   "cell_type": "code",
   "execution_count": 48,
   "metadata": {},
   "outputs": [],
   "source": [
    "stock_dfs = [amzn_df]\n",
    "\n",
    "for stock_df in stock_dfs:\n",
    "    stock_df = pf.date_time_prep(stock_df) \n",
    "    stock_df = pf.rolling_aves(stock_df)\n",
    "    stock_df = pf.future_close_setup(stock_df, 1)"
   ]
  },
  {
   "cell_type": "code",
   "execution_count": 4,
   "metadata": {},
   "outputs": [],
   "source": [
    "def combiner(stock_dfs):\n",
    "    combine_df = stock_dfs[0]\n",
    "    i = 1\n",
    "    while i < len(stock_dfs):\n",
    "        combine_df = pd.concat([combine_df, stock_dfs[i]])\n",
    "        i += 1\n",
    "    \n",
    "    combine_df.sort_values(by=['Date'], inplace=True)\n",
    "    return combine_df"
   ]
  },
  {
   "cell_type": "code",
   "execution_count": 106,
   "metadata": {},
   "outputs": [
    {
     "output_type": "execute_result",
     "data": {
      "text/plain": [
       "            Close in 1 Days\n",
       "Date                       \n",
       "1997-05-15         1.729167\n",
       "1997-05-16         1.708333\n",
       "1997-05-19         1.635417\n",
       "1997-05-20         1.427083\n",
       "1997-05-21         1.395833\n",
       "...                     ...\n",
       "2021-03-10      3113.590088\n",
       "2021-03-11      3089.489990\n",
       "2021-03-12      3081.679932\n",
       "2021-03-15      3091.860107\n",
       "2021-03-16      3135.729980\n",
       "\n",
       "[5998 rows x 1 columns]"
      ],
      "text/html": "<div>\n<style scoped>\n    .dataframe tbody tr th:only-of-type {\n        vertical-align: middle;\n    }\n\n    .dataframe tbody tr th {\n        vertical-align: top;\n    }\n\n    .dataframe thead th {\n        text-align: right;\n    }\n</style>\n<table border=\"1\" class=\"dataframe\">\n  <thead>\n    <tr style=\"text-align: right;\">\n      <th></th>\n      <th>Close in 1 Days</th>\n    </tr>\n    <tr>\n      <th>Date</th>\n      <th></th>\n    </tr>\n  </thead>\n  <tbody>\n    <tr>\n      <th>1997-05-15</th>\n      <td>1.729167</td>\n    </tr>\n    <tr>\n      <th>1997-05-16</th>\n      <td>1.708333</td>\n    </tr>\n    <tr>\n      <th>1997-05-19</th>\n      <td>1.635417</td>\n    </tr>\n    <tr>\n      <th>1997-05-20</th>\n      <td>1.427083</td>\n    </tr>\n    <tr>\n      <th>1997-05-21</th>\n      <td>1.395833</td>\n    </tr>\n    <tr>\n      <th>...</th>\n      <td>...</td>\n    </tr>\n    <tr>\n      <th>2021-03-10</th>\n      <td>3113.590088</td>\n    </tr>\n    <tr>\n      <th>2021-03-11</th>\n      <td>3089.489990</td>\n    </tr>\n    <tr>\n      <th>2021-03-12</th>\n      <td>3081.679932</td>\n    </tr>\n    <tr>\n      <th>2021-03-15</th>\n      <td>3091.860107</td>\n    </tr>\n    <tr>\n      <th>2021-03-16</th>\n      <td>3135.729980</td>\n    </tr>\n  </tbody>\n</table>\n<p>5998 rows × 1 columns</p>\n</div>"
     },
     "metadata": {},
     "execution_count": 106
    }
   ],
   "source": [
    "combine_df = combiner(stock_dfs)\n",
    "X = combine_df.iloc[:,:-1]\n",
    "y = combine_df.iloc[:,-1:]\n",
    "\n",
    "days = list()\n",
    "adj_close_prices = list()\n",
    "#df_days = combine_df.iloc[:,:-1,]\n",
    "#df_adj_close = combine_df.iloc[:,-1:]\n",
    "#df_days\n",
    "X = X[:5998]\n",
    "y = y[:5998]\n",
    "\n"
   ]
  },
  {
   "cell_type": "code",
   "execution_count": 97,
   "metadata": {},
   "outputs": [
    {
     "output_type": "execute_result",
     "data": {
      "text/plain": [
       "                   Open         High          Low        Close   Volume  \\\n",
       "Date                                                                      \n",
       "2019-10-04  1726.020020  1740.579956  1719.229980  1739.650024  2471900   \n",
       "2019-10-07  1731.630005  1747.829956  1723.699951  1732.660034  2154700   \n",
       "2019-10-08  1722.489990  1727.000000  1705.000000  1705.510010  2542000   \n",
       "2019-10-09  1719.609985  1729.949951  1714.359985  1721.989990  2043500   \n",
       "2019-10-10  1725.239990  1738.290039  1713.750000  1720.260010  2575200   \n",
       "...                 ...          ...          ...          ...      ...   \n",
       "2021-03-11  3104.010010  3131.780029  3082.929932  3113.590088  2770800   \n",
       "2021-03-12  3075.000000  3098.979980  3045.500000  3089.489990  2418500   \n",
       "2021-03-15  3074.570068  3082.239990  3032.090088  3081.679932  2913600   \n",
       "2021-03-16  3104.969971  3128.909912  3075.860107  3091.860107  2510100   \n",
       "2021-03-17  3073.219971  3173.050049  3070.219971  3135.729980  3100900   \n",
       "\n",
       "            Dividends  Stock Splits  Day  Month  Year  ...  20 Day Open Mean  \\\n",
       "Date                                                   ...                     \n",
       "2019-10-04          0           0.0    4     10  2019  ...       1785.595502   \n",
       "2019-10-07          0           0.0    7     10  2019  ...       1780.127002   \n",
       "2019-10-08          0           0.0    8     10  2019  ...       1775.114001   \n",
       "2019-10-09          0           0.0    9     10  2019  ...       1770.487500   \n",
       "2019-10-10          0           0.0   10     10  2019  ...       1764.867999   \n",
       "...               ...           ...  ...    ...   ...  ...               ...   \n",
       "2021-03-11          0           0.0   11      3  2021  ...       3150.456982   \n",
       "2021-03-12          0           0.0   12      3  2021  ...       3139.606982   \n",
       "2021-03-15          0           0.0   15      3  2021  ...       3130.835486   \n",
       "2021-03-16          0           0.0   16      3  2021  ...       3123.381482   \n",
       "2021-03-17          0           0.0   17      3  2021  ...       3113.862476   \n",
       "\n",
       "            20 Day High Mean  20 Day Low Mean  20 Day Close Mean  \\\n",
       "Date                                                               \n",
       "2019-10-04       1795.268994      1766.260498        1781.534003   \n",
       "2019-10-07       1790.160492      1761.214996        1776.599506   \n",
       "2019-10-08       1785.219989      1756.197998        1770.847504   \n",
       "2019-10-09       1780.046484      1751.462000        1765.797504   \n",
       "2019-10-10       1774.277985      1745.435498        1759.633002   \n",
       "...                      ...              ...                ...   \n",
       "2021-03-11       3183.685999      3103.291504        3139.507471   \n",
       "2021-03-12       3174.034998      3093.163501        3130.875476   \n",
       "2021-03-15       3164.134497      3083.102502        3121.073975   \n",
       "2021-03-16       3155.164990      3074.216003        3112.219482   \n",
       "2021-03-17       3147.771997      3064.752002        3103.573987   \n",
       "\n",
       "            20 Day Volume Mean  20 Day Open Var  20 Day High Var  \\\n",
       "Date                                                               \n",
       "2019-10-04           3091190.0      1859.717783      1869.460923   \n",
       "2019-10-07           3048950.0      1821.944114      1806.113095   \n",
       "2019-10-08           3045355.0      1872.079198      1917.622332   \n",
       "2019-10-09           3025890.0      1936.163190      1927.433772   \n",
       "2019-10-10           3013475.0      1781.545460      1710.390483   \n",
       "...                        ...              ...              ...   \n",
       "2021-03-11           3597565.0      9815.957387      9601.222861   \n",
       "2021-03-12           3603700.0      8981.201405      9280.240371   \n",
       "2021-03-15           3632915.0      8506.421346      9039.455292   \n",
       "2021-03-16           3629685.0      7725.218989      7981.856493   \n",
       "2021-03-17           3619855.0      6777.353358      6569.624954   \n",
       "\n",
       "            20 Day Low Var  20 Day Close Var  20 Day Volume Var  \n",
       "Date                                                             \n",
       "2019-10-04     2323.964852       1943.328054       7.123314e+11  \n",
       "2019-10-07     2218.844638       1914.330475       7.539775e+11  \n",
       "2019-10-08     2254.330011       2037.348257       7.573511e+11  \n",
       "2019-10-09     2179.596220       1995.256643       7.883967e+11  \n",
       "2019-10-10     1871.445942       1758.665812       7.963505e+11  \n",
       "...                    ...               ...                ...  \n",
       "2021-03-11    13599.249133      12776.055919       9.111474e+11  \n",
       "2021-03-12    12615.768864      12074.819208       8.958898e+11  \n",
       "2021-03-15    11718.990382      11021.741559       8.376434e+11  \n",
       "2021-03-16    10189.342291       9892.646807       8.446777e+11  \n",
       "2021-03-17     8384.065412       7916.490512       8.530444e+11  \n",
       "\n",
       "[365 rows x 41 columns]"
      ],
      "text/html": "<div>\n<style scoped>\n    .dataframe tbody tr th:only-of-type {\n        vertical-align: middle;\n    }\n\n    .dataframe tbody tr th {\n        vertical-align: top;\n    }\n\n    .dataframe thead th {\n        text-align: right;\n    }\n</style>\n<table border=\"1\" class=\"dataframe\">\n  <thead>\n    <tr style=\"text-align: right;\">\n      <th></th>\n      <th>Open</th>\n      <th>High</th>\n      <th>Low</th>\n      <th>Close</th>\n      <th>Volume</th>\n      <th>Dividends</th>\n      <th>Stock Splits</th>\n      <th>Day</th>\n      <th>Month</th>\n      <th>Year</th>\n      <th>...</th>\n      <th>20 Day Open Mean</th>\n      <th>20 Day High Mean</th>\n      <th>20 Day Low Mean</th>\n      <th>20 Day Close Mean</th>\n      <th>20 Day Volume Mean</th>\n      <th>20 Day Open Var</th>\n      <th>20 Day High Var</th>\n      <th>20 Day Low Var</th>\n      <th>20 Day Close Var</th>\n      <th>20 Day Volume Var</th>\n    </tr>\n    <tr>\n      <th>Date</th>\n      <th></th>\n      <th></th>\n      <th></th>\n      <th></th>\n      <th></th>\n      <th></th>\n      <th></th>\n      <th></th>\n      <th></th>\n      <th></th>\n      <th></th>\n      <th></th>\n      <th></th>\n      <th></th>\n      <th></th>\n      <th></th>\n      <th></th>\n      <th></th>\n      <th></th>\n      <th></th>\n      <th></th>\n    </tr>\n  </thead>\n  <tbody>\n    <tr>\n      <th>2019-10-04</th>\n      <td>1726.020020</td>\n      <td>1740.579956</td>\n      <td>1719.229980</td>\n      <td>1739.650024</td>\n      <td>2471900</td>\n      <td>0</td>\n      <td>0.0</td>\n      <td>4</td>\n      <td>10</td>\n      <td>2019</td>\n      <td>...</td>\n      <td>1785.595502</td>\n      <td>1795.268994</td>\n      <td>1766.260498</td>\n      <td>1781.534003</td>\n      <td>3091190.0</td>\n      <td>1859.717783</td>\n      <td>1869.460923</td>\n      <td>2323.964852</td>\n      <td>1943.328054</td>\n      <td>7.123314e+11</td>\n    </tr>\n    <tr>\n      <th>2019-10-07</th>\n      <td>1731.630005</td>\n      <td>1747.829956</td>\n      <td>1723.699951</td>\n      <td>1732.660034</td>\n      <td>2154700</td>\n      <td>0</td>\n      <td>0.0</td>\n      <td>7</td>\n      <td>10</td>\n      <td>2019</td>\n      <td>...</td>\n      <td>1780.127002</td>\n      <td>1790.160492</td>\n      <td>1761.214996</td>\n      <td>1776.599506</td>\n      <td>3048950.0</td>\n      <td>1821.944114</td>\n      <td>1806.113095</td>\n      <td>2218.844638</td>\n      <td>1914.330475</td>\n      <td>7.539775e+11</td>\n    </tr>\n    <tr>\n      <th>2019-10-08</th>\n      <td>1722.489990</td>\n      <td>1727.000000</td>\n      <td>1705.000000</td>\n      <td>1705.510010</td>\n      <td>2542000</td>\n      <td>0</td>\n      <td>0.0</td>\n      <td>8</td>\n      <td>10</td>\n      <td>2019</td>\n      <td>...</td>\n      <td>1775.114001</td>\n      <td>1785.219989</td>\n      <td>1756.197998</td>\n      <td>1770.847504</td>\n      <td>3045355.0</td>\n      <td>1872.079198</td>\n      <td>1917.622332</td>\n      <td>2254.330011</td>\n      <td>2037.348257</td>\n      <td>7.573511e+11</td>\n    </tr>\n    <tr>\n      <th>2019-10-09</th>\n      <td>1719.609985</td>\n      <td>1729.949951</td>\n      <td>1714.359985</td>\n      <td>1721.989990</td>\n      <td>2043500</td>\n      <td>0</td>\n      <td>0.0</td>\n      <td>9</td>\n      <td>10</td>\n      <td>2019</td>\n      <td>...</td>\n      <td>1770.487500</td>\n      <td>1780.046484</td>\n      <td>1751.462000</td>\n      <td>1765.797504</td>\n      <td>3025890.0</td>\n      <td>1936.163190</td>\n      <td>1927.433772</td>\n      <td>2179.596220</td>\n      <td>1995.256643</td>\n      <td>7.883967e+11</td>\n    </tr>\n    <tr>\n      <th>2019-10-10</th>\n      <td>1725.239990</td>\n      <td>1738.290039</td>\n      <td>1713.750000</td>\n      <td>1720.260010</td>\n      <td>2575200</td>\n      <td>0</td>\n      <td>0.0</td>\n      <td>10</td>\n      <td>10</td>\n      <td>2019</td>\n      <td>...</td>\n      <td>1764.867999</td>\n      <td>1774.277985</td>\n      <td>1745.435498</td>\n      <td>1759.633002</td>\n      <td>3013475.0</td>\n      <td>1781.545460</td>\n      <td>1710.390483</td>\n      <td>1871.445942</td>\n      <td>1758.665812</td>\n      <td>7.963505e+11</td>\n    </tr>\n    <tr>\n      <th>...</th>\n      <td>...</td>\n      <td>...</td>\n      <td>...</td>\n      <td>...</td>\n      <td>...</td>\n      <td>...</td>\n      <td>...</td>\n      <td>...</td>\n      <td>...</td>\n      <td>...</td>\n      <td>...</td>\n      <td>...</td>\n      <td>...</td>\n      <td>...</td>\n      <td>...</td>\n      <td>...</td>\n      <td>...</td>\n      <td>...</td>\n      <td>...</td>\n      <td>...</td>\n      <td>...</td>\n    </tr>\n    <tr>\n      <th>2021-03-11</th>\n      <td>3104.010010</td>\n      <td>3131.780029</td>\n      <td>3082.929932</td>\n      <td>3113.590088</td>\n      <td>2770800</td>\n      <td>0</td>\n      <td>0.0</td>\n      <td>11</td>\n      <td>3</td>\n      <td>2021</td>\n      <td>...</td>\n      <td>3150.456982</td>\n      <td>3183.685999</td>\n      <td>3103.291504</td>\n      <td>3139.507471</td>\n      <td>3597565.0</td>\n      <td>9815.957387</td>\n      <td>9601.222861</td>\n      <td>13599.249133</td>\n      <td>12776.055919</td>\n      <td>9.111474e+11</td>\n    </tr>\n    <tr>\n      <th>2021-03-12</th>\n      <td>3075.000000</td>\n      <td>3098.979980</td>\n      <td>3045.500000</td>\n      <td>3089.489990</td>\n      <td>2418500</td>\n      <td>0</td>\n      <td>0.0</td>\n      <td>12</td>\n      <td>3</td>\n      <td>2021</td>\n      <td>...</td>\n      <td>3139.606982</td>\n      <td>3174.034998</td>\n      <td>3093.163501</td>\n      <td>3130.875476</td>\n      <td>3603700.0</td>\n      <td>8981.201405</td>\n      <td>9280.240371</td>\n      <td>12615.768864</td>\n      <td>12074.819208</td>\n      <td>8.958898e+11</td>\n    </tr>\n    <tr>\n      <th>2021-03-15</th>\n      <td>3074.570068</td>\n      <td>3082.239990</td>\n      <td>3032.090088</td>\n      <td>3081.679932</td>\n      <td>2913600</td>\n      <td>0</td>\n      <td>0.0</td>\n      <td>15</td>\n      <td>3</td>\n      <td>2021</td>\n      <td>...</td>\n      <td>3130.835486</td>\n      <td>3164.134497</td>\n      <td>3083.102502</td>\n      <td>3121.073975</td>\n      <td>3632915.0</td>\n      <td>8506.421346</td>\n      <td>9039.455292</td>\n      <td>11718.990382</td>\n      <td>11021.741559</td>\n      <td>8.376434e+11</td>\n    </tr>\n    <tr>\n      <th>2021-03-16</th>\n      <td>3104.969971</td>\n      <td>3128.909912</td>\n      <td>3075.860107</td>\n      <td>3091.860107</td>\n      <td>2510100</td>\n      <td>0</td>\n      <td>0.0</td>\n      <td>16</td>\n      <td>3</td>\n      <td>2021</td>\n      <td>...</td>\n      <td>3123.381482</td>\n      <td>3155.164990</td>\n      <td>3074.216003</td>\n      <td>3112.219482</td>\n      <td>3629685.0</td>\n      <td>7725.218989</td>\n      <td>7981.856493</td>\n      <td>10189.342291</td>\n      <td>9892.646807</td>\n      <td>8.446777e+11</td>\n    </tr>\n    <tr>\n      <th>2021-03-17</th>\n      <td>3073.219971</td>\n      <td>3173.050049</td>\n      <td>3070.219971</td>\n      <td>3135.729980</td>\n      <td>3100900</td>\n      <td>0</td>\n      <td>0.0</td>\n      <td>17</td>\n      <td>3</td>\n      <td>2021</td>\n      <td>...</td>\n      <td>3113.862476</td>\n      <td>3147.771997</td>\n      <td>3064.752002</td>\n      <td>3103.573987</td>\n      <td>3619855.0</td>\n      <td>6777.353358</td>\n      <td>6569.624954</td>\n      <td>8384.065412</td>\n      <td>7916.490512</td>\n      <td>8.530444e+11</td>\n    </tr>\n  </tbody>\n</table>\n<p>365 rows × 41 columns</p>\n</div>"
     },
     "metadata": {},
     "execution_count": 97
    }
   ],
   "source": [
    "from sklearn.model_selection import train_test_split\n",
    "\n",
    "split_mark = int(len(combine_df)-(365*len(stock_dfs)))\n",
    "X_train = X.head(split_mark)\n",
    "X_test = X.tail(len(combine_df) - split_mark)\n",
    "y_train = y.head(split_mark)\n",
    "y_test = y.tail(len(combine_df) - split_mark)\n",
    "\n",
    "#df_days = combine_df.iloc[:,:-1]\n",
    "#df_adj_close = combine_df.iloc[:,-1:]\n",
    "\n",
    "X_train\n",
    "X_test\n",
    "\n"
   ]
  },
  {
   "cell_type": "code",
   "execution_count": 76,
   "metadata": {},
   "outputs": [],
   "source": [
    "from sklearn.preprocessing import StandardScaler\n",
    "scaler = StandardScaler()\n",
    "y_test = scaler.fit_transform(y_test)\n",
    "y_train = scaler.fit_transform(y_train)"
   ]
  },
  {
   "cell_type": "code",
   "execution_count": 63,
   "metadata": {},
   "outputs": [
    {
     "output_type": "execute_result",
     "data": {
      "text/plain": [
       "            Close in 1 Days\n",
       "Date                       \n",
       "2009-02-17        62.349998\n",
       "2012-08-01       230.809998\n",
       "2001-12-20        10.000000\n",
       "2016-02-16       534.099976\n",
       "2009-05-05        81.989998\n",
       "...                     ...\n",
       "2007-10-22       100.820000\n",
       "2006-01-24        43.599998\n",
       "2006-07-18        34.480000\n",
       "2012-09-05       251.380005\n",
       "2001-07-05        15.270000\n",
       "\n",
       "[500 rows x 1 columns]"
      ],
      "text/html": "<div>\n<style scoped>\n    .dataframe tbody tr th:only-of-type {\n        vertical-align: middle;\n    }\n\n    .dataframe tbody tr th {\n        vertical-align: top;\n    }\n\n    .dataframe thead th {\n        text-align: right;\n    }\n</style>\n<table border=\"1\" class=\"dataframe\">\n  <thead>\n    <tr style=\"text-align: right;\">\n      <th></th>\n      <th>Close in 1 Days</th>\n    </tr>\n    <tr>\n      <th>Date</th>\n      <th></th>\n    </tr>\n  </thead>\n  <tbody>\n    <tr>\n      <th>2009-02-17</th>\n      <td>62.349998</td>\n    </tr>\n    <tr>\n      <th>2012-08-01</th>\n      <td>230.809998</td>\n    </tr>\n    <tr>\n      <th>2001-12-20</th>\n      <td>10.000000</td>\n    </tr>\n    <tr>\n      <th>2016-02-16</th>\n      <td>534.099976</td>\n    </tr>\n    <tr>\n      <th>2009-05-05</th>\n      <td>81.989998</td>\n    </tr>\n    <tr>\n      <th>...</th>\n      <td>...</td>\n    </tr>\n    <tr>\n      <th>2007-10-22</th>\n      <td>100.820000</td>\n    </tr>\n    <tr>\n      <th>2006-01-24</th>\n      <td>43.599998</td>\n    </tr>\n    <tr>\n      <th>2006-07-18</th>\n      <td>34.480000</td>\n    </tr>\n    <tr>\n      <th>2012-09-05</th>\n      <td>251.380005</td>\n    </tr>\n    <tr>\n      <th>2001-07-05</th>\n      <td>15.270000</td>\n    </tr>\n  </tbody>\n</table>\n<p>500 rows × 1 columns</p>\n</div>"
     },
     "metadata": {},
     "execution_count": 63
    }
   ],
   "source": [
    "X_train\n",
    "y_train\n",
    "X_test\n",
    "y_test"
   ]
  },
  {
   "cell_type": "code",
   "execution_count": 62,
   "metadata": {},
   "outputs": [],
   "source": [
    "X_train, X_test, y_train, y_test = train_test_split(X, y, test_size=0.1)"
   ]
  },
  {
   "cell_type": "code",
   "execution_count": 58,
   "metadata": {},
   "outputs": [
    {
     "output_type": "execute_result",
     "data": {
      "text/plain": [
       "                   Open         High          Low        Close   Volume  \\\n",
       "Date                                                                      \n",
       "2008-08-15    88.279999    89.529999    86.260002    86.400002  6871600   \n",
       "2014-05-14   302.500000   304.640015   296.660004   297.619995  3323300   \n",
       "2003-03-14    24.540001    24.900000    24.200001    24.709999  8907800   \n",
       "2001-04-27    15.720000    15.730000    15.020000    15.270000  4446000   \n",
       "2008-10-20    52.169998    53.099998    49.910000    52.970001  8452100   \n",
       "...                 ...          ...          ...          ...      ...   \n",
       "2002-04-22    14.580000    14.850000    14.150000    14.310000  5290300   \n",
       "2020-06-02  2467.000000  2473.530029  2445.310059  2472.409912  2529900   \n",
       "2009-05-06    82.879997    83.599998    79.660004    81.989998  8604000   \n",
       "2003-04-30    28.600000    29.000000    28.379999    28.690001  9450000   \n",
       "2011-03-08   169.389999   169.710007   166.720001   166.889999  4219000   \n",
       "\n",
       "            Dividends  Stock Splits  Day  Month  Year  ...  20 Day Open Mean  \\\n",
       "Date                                                   ...                     \n",
       "2008-08-15          0           0.0   15      8  2008  ...         77.903499   \n",
       "2014-05-14          0           0.0   14      5  2014  ...        309.061003   \n",
       "2003-03-14          0           0.0   14      3  2003  ...         21.924000   \n",
       "2001-04-27          0           0.0   27      4  2001  ...         13.093000   \n",
       "2008-10-20          0           0.0   20     10  2008  ...         62.806000   \n",
       "...               ...           ...  ...    ...   ...  ...               ...   \n",
       "2002-04-22          0           0.0   22      4  2002  ...         14.079000   \n",
       "2020-06-02          0           0.0    2      6  2020  ...       2407.228015   \n",
       "2009-05-06          0           0.0    6      5  2009  ...         79.560000   \n",
       "2003-04-30          0           0.0   30      4  2003  ...         26.318000   \n",
       "2011-03-08          0           0.0    8      3  2011  ...        179.736499   \n",
       "\n",
       "            20 Day High Mean  20 Day Low Mean  20 Day Close Mean  \\\n",
       "Date                                                               \n",
       "2008-08-15         80.371000        76.704501          78.767000   \n",
       "2014-05-14        313.123502       303.576503         308.857498   \n",
       "2003-03-14         22.419500        21.686500          22.251000   \n",
       "2001-04-27         13.752000        12.437000          13.039000   \n",
       "2008-10-20         65.674000        59.422500          62.104001   \n",
       "...                      ...              ...                ...   \n",
       "2002-04-22         14.482000        13.709500          14.039000   \n",
       "2020-06-02       2431.956006      2383.231006        2411.255017   \n",
       "2009-05-06         81.084000        78.161001          79.597500   \n",
       "2003-04-30         26.788000        25.855500          26.283000   \n",
       "2011-03-08        181.716501       177.513501         179.570999   \n",
       "\n",
       "            20 Day Volume Mean  20 Day Open Var  20 Day High Var  \\\n",
       "Date                                                               \n",
       "2008-08-15           9801750.0        32.407698        38.436498   \n",
       "2014-05-14           5523320.0       178.010711       188.121820   \n",
       "2003-03-14           5914980.0         1.037274         1.118125   \n",
       "2001-04-27           9377925.0         8.548211         9.414506   \n",
       "2008-10-20          12303575.0        68.753103        49.043140   \n",
       "...                        ...              ...              ...   \n",
       "2002-04-22           5151520.0         0.383569         0.359506   \n",
       "2020-06-02           3671905.0      2201.008715      2148.865018   \n",
       "2009-05-06           8861450.0         6.785766         7.678983   \n",
       "2003-04-30          10493515.0         1.764496         1.680066   \n",
       "2011-03-08           5155440.0        45.583947        50.217347   \n",
       "\n",
       "            20 Day Low Var  20 Day Close Var  20 Day Volume Var  \n",
       "Date                                                             \n",
       "2008-08-15       32.538786         34.782636       4.540932e+13  \n",
       "2014-05-14      185.243348        198.603290       1.300832e+13  \n",
       "2003-03-14        1.045583          1.123099       3.096531e+12  \n",
       "2001-04-27        8.139761          8.905070       2.936934e+13  \n",
       "2008-10-20       66.505289         60.929873       1.536891e+13  \n",
       "...                    ...               ...                ...  \n",
       "2002-04-22        0.343345          0.312869       1.489372e+12  \n",
       "2020-06-02     2158.369579       2008.966686       5.317011e+11  \n",
       "2009-05-06        5.336459          5.352198       1.624403e+13  \n",
       "2003-04-30        2.024095          2.111731       5.529699e+13  \n",
       "2011-03-08       55.104511         57.544857       1.582407e+12  \n",
       "\n",
       "[600 rows x 41 columns]"
      ],
      "text/html": "<div>\n<style scoped>\n    .dataframe tbody tr th:only-of-type {\n        vertical-align: middle;\n    }\n\n    .dataframe tbody tr th {\n        vertical-align: top;\n    }\n\n    .dataframe thead th {\n        text-align: right;\n    }\n</style>\n<table border=\"1\" class=\"dataframe\">\n  <thead>\n    <tr style=\"text-align: right;\">\n      <th></th>\n      <th>Open</th>\n      <th>High</th>\n      <th>Low</th>\n      <th>Close</th>\n      <th>Volume</th>\n      <th>Dividends</th>\n      <th>Stock Splits</th>\n      <th>Day</th>\n      <th>Month</th>\n      <th>Year</th>\n      <th>...</th>\n      <th>20 Day Open Mean</th>\n      <th>20 Day High Mean</th>\n      <th>20 Day Low Mean</th>\n      <th>20 Day Close Mean</th>\n      <th>20 Day Volume Mean</th>\n      <th>20 Day Open Var</th>\n      <th>20 Day High Var</th>\n      <th>20 Day Low Var</th>\n      <th>20 Day Close Var</th>\n      <th>20 Day Volume Var</th>\n    </tr>\n    <tr>\n      <th>Date</th>\n      <th></th>\n      <th></th>\n      <th></th>\n      <th></th>\n      <th></th>\n      <th></th>\n      <th></th>\n      <th></th>\n      <th></th>\n      <th></th>\n      <th></th>\n      <th></th>\n      <th></th>\n      <th></th>\n      <th></th>\n      <th></th>\n      <th></th>\n      <th></th>\n      <th></th>\n      <th></th>\n      <th></th>\n    </tr>\n  </thead>\n  <tbody>\n    <tr>\n      <th>2008-08-15</th>\n      <td>88.279999</td>\n      <td>89.529999</td>\n      <td>86.260002</td>\n      <td>86.400002</td>\n      <td>6871600</td>\n      <td>0</td>\n      <td>0.0</td>\n      <td>15</td>\n      <td>8</td>\n      <td>2008</td>\n      <td>...</td>\n      <td>77.903499</td>\n      <td>80.371000</td>\n      <td>76.704501</td>\n      <td>78.767000</td>\n      <td>9801750.0</td>\n      <td>32.407698</td>\n      <td>38.436498</td>\n      <td>32.538786</td>\n      <td>34.782636</td>\n      <td>4.540932e+13</td>\n    </tr>\n    <tr>\n      <th>2014-05-14</th>\n      <td>302.500000</td>\n      <td>304.640015</td>\n      <td>296.660004</td>\n      <td>297.619995</td>\n      <td>3323300</td>\n      <td>0</td>\n      <td>0.0</td>\n      <td>14</td>\n      <td>5</td>\n      <td>2014</td>\n      <td>...</td>\n      <td>309.061003</td>\n      <td>313.123502</td>\n      <td>303.576503</td>\n      <td>308.857498</td>\n      <td>5523320.0</td>\n      <td>178.010711</td>\n      <td>188.121820</td>\n      <td>185.243348</td>\n      <td>198.603290</td>\n      <td>1.300832e+13</td>\n    </tr>\n    <tr>\n      <th>2003-03-14</th>\n      <td>24.540001</td>\n      <td>24.900000</td>\n      <td>24.200001</td>\n      <td>24.709999</td>\n      <td>8907800</td>\n      <td>0</td>\n      <td>0.0</td>\n      <td>14</td>\n      <td>3</td>\n      <td>2003</td>\n      <td>...</td>\n      <td>21.924000</td>\n      <td>22.419500</td>\n      <td>21.686500</td>\n      <td>22.251000</td>\n      <td>5914980.0</td>\n      <td>1.037274</td>\n      <td>1.118125</td>\n      <td>1.045583</td>\n      <td>1.123099</td>\n      <td>3.096531e+12</td>\n    </tr>\n    <tr>\n      <th>2001-04-27</th>\n      <td>15.720000</td>\n      <td>15.730000</td>\n      <td>15.020000</td>\n      <td>15.270000</td>\n      <td>4446000</td>\n      <td>0</td>\n      <td>0.0</td>\n      <td>27</td>\n      <td>4</td>\n      <td>2001</td>\n      <td>...</td>\n      <td>13.093000</td>\n      <td>13.752000</td>\n      <td>12.437000</td>\n      <td>13.039000</td>\n      <td>9377925.0</td>\n      <td>8.548211</td>\n      <td>9.414506</td>\n      <td>8.139761</td>\n      <td>8.905070</td>\n      <td>2.936934e+13</td>\n    </tr>\n    <tr>\n      <th>2008-10-20</th>\n      <td>52.169998</td>\n      <td>53.099998</td>\n      <td>49.910000</td>\n      <td>52.970001</td>\n      <td>8452100</td>\n      <td>0</td>\n      <td>0.0</td>\n      <td>20</td>\n      <td>10</td>\n      <td>2008</td>\n      <td>...</td>\n      <td>62.806000</td>\n      <td>65.674000</td>\n      <td>59.422500</td>\n      <td>62.104001</td>\n      <td>12303575.0</td>\n      <td>68.753103</td>\n      <td>49.043140</td>\n      <td>66.505289</td>\n      <td>60.929873</td>\n      <td>1.536891e+13</td>\n    </tr>\n    <tr>\n      <th>...</th>\n      <td>...</td>\n      <td>...</td>\n      <td>...</td>\n      <td>...</td>\n      <td>...</td>\n      <td>...</td>\n      <td>...</td>\n      <td>...</td>\n      <td>...</td>\n      <td>...</td>\n      <td>...</td>\n      <td>...</td>\n      <td>...</td>\n      <td>...</td>\n      <td>...</td>\n      <td>...</td>\n      <td>...</td>\n      <td>...</td>\n      <td>...</td>\n      <td>...</td>\n      <td>...</td>\n    </tr>\n    <tr>\n      <th>2002-04-22</th>\n      <td>14.580000</td>\n      <td>14.850000</td>\n      <td>14.150000</td>\n      <td>14.310000</td>\n      <td>5290300</td>\n      <td>0</td>\n      <td>0.0</td>\n      <td>22</td>\n      <td>4</td>\n      <td>2002</td>\n      <td>...</td>\n      <td>14.079000</td>\n      <td>14.482000</td>\n      <td>13.709500</td>\n      <td>14.039000</td>\n      <td>5151520.0</td>\n      <td>0.383569</td>\n      <td>0.359506</td>\n      <td>0.343345</td>\n      <td>0.312869</td>\n      <td>1.489372e+12</td>\n    </tr>\n    <tr>\n      <th>2020-06-02</th>\n      <td>2467.000000</td>\n      <td>2473.530029</td>\n      <td>2445.310059</td>\n      <td>2472.409912</td>\n      <td>2529900</td>\n      <td>0</td>\n      <td>0.0</td>\n      <td>2</td>\n      <td>6</td>\n      <td>2020</td>\n      <td>...</td>\n      <td>2407.228015</td>\n      <td>2431.956006</td>\n      <td>2383.231006</td>\n      <td>2411.255017</td>\n      <td>3671905.0</td>\n      <td>2201.008715</td>\n      <td>2148.865018</td>\n      <td>2158.369579</td>\n      <td>2008.966686</td>\n      <td>5.317011e+11</td>\n    </tr>\n    <tr>\n      <th>2009-05-06</th>\n      <td>82.879997</td>\n      <td>83.599998</td>\n      <td>79.660004</td>\n      <td>81.989998</td>\n      <td>8604000</td>\n      <td>0</td>\n      <td>0.0</td>\n      <td>6</td>\n      <td>5</td>\n      <td>2009</td>\n      <td>...</td>\n      <td>79.560000</td>\n      <td>81.084000</td>\n      <td>78.161001</td>\n      <td>79.597500</td>\n      <td>8861450.0</td>\n      <td>6.785766</td>\n      <td>7.678983</td>\n      <td>5.336459</td>\n      <td>5.352198</td>\n      <td>1.624403e+13</td>\n    </tr>\n    <tr>\n      <th>2003-04-30</th>\n      <td>28.600000</td>\n      <td>29.000000</td>\n      <td>28.379999</td>\n      <td>28.690001</td>\n      <td>9450000</td>\n      <td>0</td>\n      <td>0.0</td>\n      <td>30</td>\n      <td>4</td>\n      <td>2003</td>\n      <td>...</td>\n      <td>26.318000</td>\n      <td>26.788000</td>\n      <td>25.855500</td>\n      <td>26.283000</td>\n      <td>10493515.0</td>\n      <td>1.764496</td>\n      <td>1.680066</td>\n      <td>2.024095</td>\n      <td>2.111731</td>\n      <td>5.529699e+13</td>\n    </tr>\n    <tr>\n      <th>2011-03-08</th>\n      <td>169.389999</td>\n      <td>169.710007</td>\n      <td>166.720001</td>\n      <td>166.889999</td>\n      <td>4219000</td>\n      <td>0</td>\n      <td>0.0</td>\n      <td>8</td>\n      <td>3</td>\n      <td>2011</td>\n      <td>...</td>\n      <td>179.736499</td>\n      <td>181.716501</td>\n      <td>177.513501</td>\n      <td>179.570999</td>\n      <td>5155440.0</td>\n      <td>45.583947</td>\n      <td>50.217347</td>\n      <td>55.104511</td>\n      <td>57.544857</td>\n      <td>1.582407e+12</td>\n    </tr>\n  </tbody>\n</table>\n<p>600 rows × 41 columns</p>\n</div>"
     },
     "metadata": {},
     "execution_count": 58
    }
   ],
   "source": [
    "y_test.dropna()\n",
    "y_train.dropna()\n",
    "X_train.dropna()\n",
    "X_test.dropna()"
   ]
  },
  {
   "cell_type": "code",
   "execution_count": 107,
   "metadata": {},
   "outputs": [
    {
     "output_type": "stream",
     "name": "stderr",
     "text": [
      "/home/matthewarinanta/.local/lib/python3.6/site-packages/sklearn/utils/validation.py:63: DataConversionWarning: A column-vector y was passed when a 1d array was expected. Please change the shape of y to (n_samples, ), for example using ravel().\n  return f(*args, **kwargs)\n"
     ]
    }
   ],
   "source": [
    "svr_rbf = SVR(kernel='rbf', C=1e6, gamma=1e-8,epsilon=0.1) \n",
    "#pol_svr = SVR(kernel = 'poly', C=1000.0, degree=10)\n",
    "svr_rbf.fit(X_train,y_train)\n",
    "#pol_svr.fit(X_train,y_train)\n",
    "svr_close_pred = svr_rbf.predict(X_test)\n",
    "svr_train_pred = svr_rbf.predict(X_train)\n",
    "\n",
    "#pol_close_pred = pol_svr.predict(X_test)\n",
    "#pol_train_pred = pol_svr.predict(X_train)"
   ]
  },
  {
   "cell_type": "code",
   "execution_count": 108,
   "metadata": {},
   "outputs": [
    {
     "output_type": "stream",
     "name": "stdout",
     "text": [
      "Training R2 Score: 0.9999999561591761\n"
     ]
    },
    {
     "output_type": "execute_result",
     "data": {
      "text/plain": [
       "array([307.43546423, 307.43546423, 307.43546423, 307.43546423,\n",
       "       307.43546423, 307.43546423, 307.43546423, 307.43546423,\n",
       "       307.43546423, 307.43546423, 307.43546423, 307.43546423,\n",
       "       307.43546423, 307.43546423, 307.43546423, 307.43546423,\n",
       "       307.43546423, 307.43546423, 307.43546423, 307.43546423,\n",
       "       307.43546423, 307.43546423, 307.43546423, 307.43546423,\n",
       "       307.43546423, 307.43546423, 307.43546423, 307.43546423,\n",
       "       307.43546423, 307.43546423, 307.43546423, 307.43546423,\n",
       "       307.43546423, 307.43546423, 307.43546423, 307.43546423,\n",
       "       307.43546423, 307.43546423, 307.43546423, 307.43546423,\n",
       "       307.43546423, 307.43546423, 307.43546423, 307.43546423,\n",
       "       307.43546423, 307.43546423, 307.43546423, 307.43546423,\n",
       "       307.43546423, 307.43546423, 307.43546423, 307.43546423,\n",
       "       307.43546423, 307.43546423, 307.43546423, 307.43546423,\n",
       "       307.43546423, 307.43546423, 307.43546423, 307.43546423,\n",
       "       307.43546423, 307.43546423, 307.43546423, 307.43546423,\n",
       "       307.43546423, 307.43546423, 307.43546423, 307.43546423,\n",
       "       307.43546423, 307.43546423, 307.43546423, 307.43546423,\n",
       "       307.43546423, 307.43546423, 307.43546423, 307.43546423,\n",
       "       307.43546423, 307.43546423, 307.43546423, 307.43546423,\n",
       "       307.43546423, 307.43546423, 307.43546423, 307.43546423,\n",
       "       307.43546423, 307.43546423, 307.43546423, 307.43546423,\n",
       "       307.43546423, 307.43546423, 307.43546423, 307.43546423,\n",
       "       307.43546423, 307.43546423, 307.43546423, 307.43546423,\n",
       "       307.43546423, 307.43546423, 307.43546423, 307.43546423,\n",
       "       307.43546423, 307.43546423, 307.43546423, 307.43546423,\n",
       "       307.43546423, 307.43546423, 307.43546423, 307.43546423,\n",
       "       307.43546423, 307.43546423, 307.43546423, 307.43546423,\n",
       "       307.43546423, 307.43546423, 307.43546423, 307.43546423,\n",
       "       307.43546423, 307.43546423, 307.43546423, 307.43546423,\n",
       "       307.43546423, 307.43546423, 307.43546423, 307.43546423,\n",
       "       307.43546423, 307.43546423, 307.43546423, 307.43546423,\n",
       "       307.43546423, 307.43546423, 307.43546423, 307.43546423,\n",
       "       307.43546423, 307.43546423, 307.43546423, 307.43546423,\n",
       "       307.43546423, 307.43546423, 307.43546423, 307.43546423,\n",
       "       307.43546423, 307.43546423, 307.43546423, 307.43546423,\n",
       "       307.43546423, 307.43546423, 307.43546423, 307.43546423,\n",
       "       307.43546423, 307.43546423, 307.43546423, 307.43546423,\n",
       "       307.43546423, 307.43546423, 307.43546423, 307.43546423,\n",
       "       307.43546423, 307.43546423, 307.43546423, 307.43546423,\n",
       "       307.43546423, 307.43546423, 307.43546423, 307.43546423,\n",
       "       307.43546423, 307.43546423, 307.43546423, 307.43546423,\n",
       "       307.43546423, 307.43546423, 307.43546423, 307.43546423,\n",
       "       307.43546423, 307.43546423, 307.43546423, 307.43546423,\n",
       "       307.43546423, 307.43546423, 307.43546423, 307.43546423,\n",
       "       307.43546423, 307.43546423, 307.43546423, 307.43546423,\n",
       "       307.43546423, 307.43546423, 307.43546423, 307.43546423,\n",
       "       307.43546423, 307.43546423, 307.43546423, 307.43546423,\n",
       "       307.43546423, 307.43546423, 307.43546423, 307.43546423,\n",
       "       307.43546423, 307.43546423, 307.43546423, 307.43546423,\n",
       "       307.43546423, 307.43546423, 307.43546423, 307.43546423,\n",
       "       307.43546423, 307.43546423, 307.43546423, 307.43546423,\n",
       "       307.43546423, 307.43546423, 307.43546423, 307.43546423,\n",
       "       307.43546423, 307.43546423, 307.43546423, 307.43546423,\n",
       "       307.43546423, 307.43546423, 307.43546423, 307.43546423,\n",
       "       307.43546423, 307.43546423, 307.43546423, 307.43546423,\n",
       "       307.43546423, 307.43546423, 307.43546423, 307.43546423,\n",
       "       307.43546423, 307.43546423, 307.43546423, 307.43546423,\n",
       "       307.43546423, 307.43546423, 307.43546423, 307.43546423,\n",
       "       307.43546423, 307.43546423, 307.43546423, 307.43546423,\n",
       "       307.43546423, 307.43546423, 307.43546423, 307.43546423,\n",
       "       307.43546423, 307.43546423, 307.43546423, 307.43546423,\n",
       "       307.43546423, 307.43546423, 307.43546423, 307.43546423,\n",
       "       307.43546423, 307.43546423, 307.43546423, 307.43546423,\n",
       "       307.43546423, 307.43546423, 307.43546423, 307.43546423,\n",
       "       307.43546423, 307.43546423, 307.43546423, 307.43546423,\n",
       "       307.43546423, 307.43546423, 307.43546423, 307.43546423,\n",
       "       307.43546423, 307.43546423, 307.43546423, 307.43546423,\n",
       "       307.43546423, 307.43546423, 307.43546423, 307.43546423,\n",
       "       307.43546423, 307.43546423, 307.43546423, 307.43546423,\n",
       "       307.43546423, 307.43546423, 307.43546423, 307.43546423,\n",
       "       307.43546423, 307.43546423, 307.43546423, 307.43546423,\n",
       "       307.43546423, 307.43546423, 307.43546423, 307.43546423,\n",
       "       307.43546423, 307.43546423, 307.43546423, 307.43546423,\n",
       "       307.43546423, 307.43546423, 307.43546423, 307.43546423,\n",
       "       307.43546423, 307.43546423, 307.43546423, 307.43546423,\n",
       "       307.43546423, 307.43546423, 307.43546423, 307.43546423,\n",
       "       307.43546423, 307.43546423, 307.43546423, 307.43546423,\n",
       "       307.43546423, 307.43546423, 307.43546423, 307.43546423,\n",
       "       307.43546423, 307.43546423, 307.43546423, 307.43546423,\n",
       "       307.43546423, 307.43546423, 307.43546423, 307.43546423,\n",
       "       307.43546423, 307.43546423, 307.43546423, 307.43546423,\n",
       "       307.43546423, 307.43546423, 307.43546423, 307.43546423,\n",
       "       307.43546423, 307.43546423, 307.43546423, 307.43546423,\n",
       "       307.43546423, 307.43546423, 307.43546423, 307.43546423,\n",
       "       307.43546423, 307.43546423, 307.43546423, 307.43546423,\n",
       "       307.43546423, 307.43546423, 307.43546423, 307.43546423,\n",
       "       307.43546423, 307.43546423, 307.43546423, 307.43546423,\n",
       "       307.43546423, 307.43546423, 307.43546423, 307.43546423,\n",
       "       307.43546423, 307.43546423, 307.43546423, 307.43546423,\n",
       "       307.43546423, 307.43546423, 307.43546423, 307.43546423,\n",
       "       307.43546423])"
      ]
     },
     "metadata": {},
     "execution_count": 108
    }
   ],
   "source": [
    "train_score = r2_score(y_train, svr_train_pred)\n",
    "print(\"Training R2 Score: \" + str(train_score))\n",
    "svr_close_pred\n"
   ]
  },
  {
   "cell_type": "code",
   "execution_count": 100,
   "metadata": {},
   "outputs": [
    {
     "output_type": "stream",
     "name": "stdout",
     "text": [
      "R2 Score: -14.08724967987583\n"
     ]
    }
   ],
   "source": [
    "model_score = r2_score(y_test.dropna(), svr_close_pred[:len(y_test.dropna())])\n",
    "\n",
    "print(\"R2 Score: \" + str(model_score))"
   ]
  },
  {
   "cell_type": "code",
   "execution_count": 90,
   "metadata": {},
   "outputs": [
    {
     "output_type": "execute_result",
     "data": {
      "text/html": "\n<div id=\"altair-viz-e65d3dad0aa8402a9514c16873df84a4\"></div>\n<script type=\"text/javascript\">\n  (function(spec, embedOpt){\n    let outputDiv = document.currentScript.previousElementSibling;\n    if (outputDiv.id !== \"altair-viz-e65d3dad0aa8402a9514c16873df84a4\") {\n      outputDiv = document.getElementById(\"altair-viz-e65d3dad0aa8402a9514c16873df84a4\");\n    }\n    const paths = {\n      \"vega\": \"https://cdn.jsdelivr.net/npm//vega@5?noext\",\n      \"vega-lib\": \"https://cdn.jsdelivr.net/npm//vega-lib?noext\",\n      \"vega-lite\": \"https://cdn.jsdelivr.net/npm//vega-lite@4.8.1?noext\",\n      \"vega-embed\": \"https://cdn.jsdelivr.net/npm//vega-embed@6?noext\",\n    };\n\n    function loadScript(lib) {\n      return new Promise(function(resolve, reject) {\n        var s = document.createElement('script');\n        s.src = paths[lib];\n        s.async = true;\n        s.onload = () => resolve(paths[lib]);\n        s.onerror = () => reject(`Error loading script: ${paths[lib]}`);\n        document.getElementsByTagName(\"head\")[0].appendChild(s);\n      });\n    }\n\n    function showError(err) {\n      outputDiv.innerHTML = `<div class=\"error\" style=\"color:red;\">${err}</div>`;\n      throw err;\n    }\n\n    function displayChart(vegaEmbed) {\n      vegaEmbed(outputDiv, spec, embedOpt)\n        .catch(err => showError(`Javascript Error: ${err.message}<br>This usually means there's a typo in your chart specification. See the javascript console for the full traceback.`));\n    }\n\n    if(typeof define === \"function\" && define.amd) {\n      requirejs.config({paths});\n      require([\"vega-embed\"], displayChart, err => showError(`Error loading script: ${err.message}`));\n    } else if (typeof vegaEmbed === \"function\") {\n      displayChart(vegaEmbed);\n    } else {\n      loadScript(\"vega\")\n        .then(() => loadScript(\"vega-lite\"))\n        .then(() => loadScript(\"vega-embed\"))\n        .catch(showError)\n        .then(() => displayChart(vegaEmbed));\n    }\n  })({\"config\": {\"view\": {\"continuousWidth\": 400, \"continuousHeight\": 300}}, \"data\": {\"url\": \"altair-data-091c5008909ed1e5f341b111929b67b4.json\", \"format\": {\"type\": \"json\"}}, \"mark\": \"line\", \"encoding\": {\"color\": {\"type\": \"nominal\", \"field\": \"Company\"}, \"x\": {\"type\": \"temporal\", \"field\": \"Date\"}, \"y\": {\"type\": \"quantitative\", \"field\": \"Price\"}}, \"$schema\": \"https://vega.github.io/schema/vega-lite/v4.8.1.json\"}, {\"mode\": \"vega-lite\"});\n</script>",
      "text/plain": [
       "alt.Chart(...)"
      ]
     },
     "metadata": {},
     "execution_count": 90
    }
   ],
   "source": [
    "columns = ['Amazon Price', 'Amazon Prediction']\n",
    "\n",
    "single_split_mark = int(len(stock_dfs[0])-365)\n",
    "results_df = pd.DataFrame(columns=columns, index=stock_dfs[0].tail(len(stock_dfs[0])-single_split_mark).index)\n",
    "\n",
    "i = 0\n",
    "for stock_df in stock_dfs:\n",
    "    single_split_mark = int(len(stock_df)-365)\n",
    "    results_df[columns[i]] = stock_df.iloc[:,-1:].tail(len(stock_df) - single_split_mark)\n",
    "    results_df[columns[i+1]] = svr_rbf.predict(stock_df.iloc[:,:-1].tail(len(stock_df) - single_split_mark))\n",
    "    i += 2\n",
    "        \n",
    "results_df.reset_index(inplace=True)\n",
    "results_df = results_df.melt('Date', var_name='Company', value_name='Price')\n",
    "# Plots Results\n",
    "line_plot = alt.Chart(results_df).mark_line().encode(\n",
    "    x = 'Date',\n",
    "    y = 'Price',\n",
    "    color = 'Company'\n",
    "    )\n",
    "\n",
    "line_plot"
   ]
  },
  {
   "cell_type": "code",
   "execution_count": 91,
   "metadata": {},
   "outputs": [
    {
     "output_type": "execute_result",
     "data": {
      "text/plain": [
       "          Date            Company        Price\n",
       "0   2019-10-04       Amazon Price  1732.660034\n",
       "1   2019-10-07       Amazon Price  1705.510010\n",
       "2   2019-10-08       Amazon Price  1721.989990\n",
       "3   2019-10-09       Amazon Price  1720.260010\n",
       "4   2019-10-10       Amazon Price  1731.920044\n",
       "..         ...                ...          ...\n",
       "725 2021-03-11  Amazon Prediction   155.615848\n",
       "726 2021-03-12  Amazon Prediction   155.615848\n",
       "727 2021-03-15  Amazon Prediction   155.615848\n",
       "728 2021-03-16  Amazon Prediction   155.615848\n",
       "729 2021-03-17  Amazon Prediction   155.615848\n",
       "\n",
       "[730 rows x 3 columns]"
      ],
      "text/html": "<div>\n<style scoped>\n    .dataframe tbody tr th:only-of-type {\n        vertical-align: middle;\n    }\n\n    .dataframe tbody tr th {\n        vertical-align: top;\n    }\n\n    .dataframe thead th {\n        text-align: right;\n    }\n</style>\n<table border=\"1\" class=\"dataframe\">\n  <thead>\n    <tr style=\"text-align: right;\">\n      <th></th>\n      <th>Date</th>\n      <th>Company</th>\n      <th>Price</th>\n    </tr>\n  </thead>\n  <tbody>\n    <tr>\n      <th>0</th>\n      <td>2019-10-04</td>\n      <td>Amazon Price</td>\n      <td>1732.660034</td>\n    </tr>\n    <tr>\n      <th>1</th>\n      <td>2019-10-07</td>\n      <td>Amazon Price</td>\n      <td>1705.510010</td>\n    </tr>\n    <tr>\n      <th>2</th>\n      <td>2019-10-08</td>\n      <td>Amazon Price</td>\n      <td>1721.989990</td>\n    </tr>\n    <tr>\n      <th>3</th>\n      <td>2019-10-09</td>\n      <td>Amazon Price</td>\n      <td>1720.260010</td>\n    </tr>\n    <tr>\n      <th>4</th>\n      <td>2019-10-10</td>\n      <td>Amazon Price</td>\n      <td>1731.920044</td>\n    </tr>\n    <tr>\n      <th>...</th>\n      <td>...</td>\n      <td>...</td>\n      <td>...</td>\n    </tr>\n    <tr>\n      <th>725</th>\n      <td>2021-03-11</td>\n      <td>Amazon Prediction</td>\n      <td>155.615848</td>\n    </tr>\n    <tr>\n      <th>726</th>\n      <td>2021-03-12</td>\n      <td>Amazon Prediction</td>\n      <td>155.615848</td>\n    </tr>\n    <tr>\n      <th>727</th>\n      <td>2021-03-15</td>\n      <td>Amazon Prediction</td>\n      <td>155.615848</td>\n    </tr>\n    <tr>\n      <th>728</th>\n      <td>2021-03-16</td>\n      <td>Amazon Prediction</td>\n      <td>155.615848</td>\n    </tr>\n    <tr>\n      <th>729</th>\n      <td>2021-03-17</td>\n      <td>Amazon Prediction</td>\n      <td>155.615848</td>\n    </tr>\n  </tbody>\n</table>\n<p>730 rows × 3 columns</p>\n</div>"
     },
     "metadata": {},
     "execution_count": 91
    }
   ],
   "source": [
    "results_df"
   ]
  },
  {
   "cell_type": "code",
   "execution_count": null,
   "metadata": {},
   "outputs": [],
   "source": []
  }
 ]
}